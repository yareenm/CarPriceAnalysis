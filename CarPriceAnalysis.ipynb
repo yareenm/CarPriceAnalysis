{
  "nbformat": 4,
  "nbformat_minor": 0,
  "metadata": {
    "colab": {
      "name": "CarPriceAnalysis.ipynb",
      "provenance": [],
      "collapsed_sections": [],
      "authorship_tag": "ABX9TyP/EmgwB1RzVfgIOFkA6WgR",
      "include_colab_link": true
    },
    "kernelspec": {
      "name": "python3",
      "display_name": "Python 3"
    },
    "language_info": {
      "name": "python"
    }
  },
  "cells": [
    {
      "cell_type": "markdown",
      "metadata": {
        "id": "view-in-github",
        "colab_type": "text"
      },
      "source": [
        "<a href=\"https://colab.research.google.com/github/yareenm/CarPriceAnalysis/blob/main/CarPriceAnalysis.ipynb\" target=\"_parent\"><img src=\"https://colab.research.google.com/assets/colab-badge.svg\" alt=\"Open In Colab\"/></a>"
      ]
    },
    {
      "cell_type": "code",
      "metadata": {
        "id": "czGFyN85bRUU"
      },
      "source": [
        "import pandas as pd\n",
        "import numpy as np\n",
        "import matplotlib.pyplot as plt\n",
        "import seaborn as sbn"
      ],
      "execution_count": null,
      "outputs": []
    },
    {
      "cell_type": "code",
      "metadata": {
        "id": "QXvcgCYkgKXK"
      },
      "source": [
        "dataFrame = pd.read_excel('merc.xlsx')"
      ],
      "execution_count": null,
      "outputs": []
    },
    {
      "cell_type": "code",
      "metadata": {
        "colab": {
          "base_uri": "https://localhost:8080/",
          "height": 204
        },
        "id": "jc_nNrmagO5I",
        "outputId": "56c424a9-8678-47fb-e988-d107cc910279"
      },
      "source": [
        "dataFrame.head()"
      ],
      "execution_count": null,
      "outputs": [
        {
          "output_type": "execute_result",
          "data": {
            "text/html": [
              "<div>\n",
              "<style scoped>\n",
              "    .dataframe tbody tr th:only-of-type {\n",
              "        vertical-align: middle;\n",
              "    }\n",
              "\n",
              "    .dataframe tbody tr th {\n",
              "        vertical-align: top;\n",
              "    }\n",
              "\n",
              "    .dataframe thead th {\n",
              "        text-align: right;\n",
              "    }\n",
              "</style>\n",
              "<table border=\"1\" class=\"dataframe\">\n",
              "  <thead>\n",
              "    <tr style=\"text-align: right;\">\n",
              "      <th></th>\n",
              "      <th>year</th>\n",
              "      <th>price</th>\n",
              "      <th>transmission</th>\n",
              "      <th>mileage</th>\n",
              "      <th>tax</th>\n",
              "      <th>mpg</th>\n",
              "      <th>engineSize</th>\n",
              "    </tr>\n",
              "  </thead>\n",
              "  <tbody>\n",
              "    <tr>\n",
              "      <th>0</th>\n",
              "      <td>2005</td>\n",
              "      <td>5200</td>\n",
              "      <td>Automatic</td>\n",
              "      <td>63000</td>\n",
              "      <td>325</td>\n",
              "      <td>32.1</td>\n",
              "      <td>1.8</td>\n",
              "    </tr>\n",
              "    <tr>\n",
              "      <th>1</th>\n",
              "      <td>2017</td>\n",
              "      <td>34948</td>\n",
              "      <td>Automatic</td>\n",
              "      <td>27000</td>\n",
              "      <td>20</td>\n",
              "      <td>61.4</td>\n",
              "      <td>2.1</td>\n",
              "    </tr>\n",
              "    <tr>\n",
              "      <th>2</th>\n",
              "      <td>2016</td>\n",
              "      <td>49948</td>\n",
              "      <td>Automatic</td>\n",
              "      <td>6200</td>\n",
              "      <td>555</td>\n",
              "      <td>28.0</td>\n",
              "      <td>5.5</td>\n",
              "    </tr>\n",
              "    <tr>\n",
              "      <th>3</th>\n",
              "      <td>2016</td>\n",
              "      <td>61948</td>\n",
              "      <td>Automatic</td>\n",
              "      <td>16000</td>\n",
              "      <td>325</td>\n",
              "      <td>30.4</td>\n",
              "      <td>4.0</td>\n",
              "    </tr>\n",
              "    <tr>\n",
              "      <th>4</th>\n",
              "      <td>2016</td>\n",
              "      <td>73948</td>\n",
              "      <td>Automatic</td>\n",
              "      <td>4000</td>\n",
              "      <td>325</td>\n",
              "      <td>30.1</td>\n",
              "      <td>4.0</td>\n",
              "    </tr>\n",
              "  </tbody>\n",
              "</table>\n",
              "</div>"
            ],
            "text/plain": [
              "   year  price transmission  mileage  tax   mpg  engineSize\n",
              "0  2005   5200    Automatic    63000  325  32.1         1.8\n",
              "1  2017  34948    Automatic    27000   20  61.4         2.1\n",
              "2  2016  49948    Automatic     6200  555  28.0         5.5\n",
              "3  2016  61948    Automatic    16000  325  30.4         4.0\n",
              "4  2016  73948    Automatic     4000  325  30.1         4.0"
            ]
          },
          "metadata": {},
          "execution_count": 3
        }
      ]
    },
    {
      "cell_type": "code",
      "metadata": {
        "colab": {
          "base_uri": "https://localhost:8080/",
          "height": 297
        },
        "id": "UzY-n9qtgQmH",
        "outputId": "d3860cb7-2629-43a1-de41-c3c023732ad4"
      },
      "source": [
        "dataFrame.describe()"
      ],
      "execution_count": null,
      "outputs": [
        {
          "output_type": "execute_result",
          "data": {
            "text/html": [
              "<div>\n",
              "<style scoped>\n",
              "    .dataframe tbody tr th:only-of-type {\n",
              "        vertical-align: middle;\n",
              "    }\n",
              "\n",
              "    .dataframe tbody tr th {\n",
              "        vertical-align: top;\n",
              "    }\n",
              "\n",
              "    .dataframe thead th {\n",
              "        text-align: right;\n",
              "    }\n",
              "</style>\n",
              "<table border=\"1\" class=\"dataframe\">\n",
              "  <thead>\n",
              "    <tr style=\"text-align: right;\">\n",
              "      <th></th>\n",
              "      <th>year</th>\n",
              "      <th>price</th>\n",
              "      <th>mileage</th>\n",
              "      <th>tax</th>\n",
              "      <th>mpg</th>\n",
              "      <th>engineSize</th>\n",
              "    </tr>\n",
              "  </thead>\n",
              "  <tbody>\n",
              "    <tr>\n",
              "      <th>count</th>\n",
              "      <td>13119.000000</td>\n",
              "      <td>13119.000000</td>\n",
              "      <td>13119.000000</td>\n",
              "      <td>13119.000000</td>\n",
              "      <td>13119.000000</td>\n",
              "      <td>13119.000000</td>\n",
              "    </tr>\n",
              "    <tr>\n",
              "      <th>mean</th>\n",
              "      <td>2017.296288</td>\n",
              "      <td>24698.596920</td>\n",
              "      <td>21949.559037</td>\n",
              "      <td>129.972178</td>\n",
              "      <td>55.155843</td>\n",
              "      <td>2.071530</td>\n",
              "    </tr>\n",
              "    <tr>\n",
              "      <th>std</th>\n",
              "      <td>2.224709</td>\n",
              "      <td>11842.675542</td>\n",
              "      <td>21176.512267</td>\n",
              "      <td>65.260286</td>\n",
              "      <td>15.220082</td>\n",
              "      <td>0.572426</td>\n",
              "    </tr>\n",
              "    <tr>\n",
              "      <th>min</th>\n",
              "      <td>1970.000000</td>\n",
              "      <td>650.000000</td>\n",
              "      <td>1.000000</td>\n",
              "      <td>0.000000</td>\n",
              "      <td>1.100000</td>\n",
              "      <td>0.000000</td>\n",
              "    </tr>\n",
              "    <tr>\n",
              "      <th>25%</th>\n",
              "      <td>2016.000000</td>\n",
              "      <td>17450.000000</td>\n",
              "      <td>6097.500000</td>\n",
              "      <td>125.000000</td>\n",
              "      <td>45.600000</td>\n",
              "      <td>1.800000</td>\n",
              "    </tr>\n",
              "    <tr>\n",
              "      <th>50%</th>\n",
              "      <td>2018.000000</td>\n",
              "      <td>22480.000000</td>\n",
              "      <td>15189.000000</td>\n",
              "      <td>145.000000</td>\n",
              "      <td>56.500000</td>\n",
              "      <td>2.000000</td>\n",
              "    </tr>\n",
              "    <tr>\n",
              "      <th>75%</th>\n",
              "      <td>2019.000000</td>\n",
              "      <td>28980.000000</td>\n",
              "      <td>31779.500000</td>\n",
              "      <td>145.000000</td>\n",
              "      <td>64.200000</td>\n",
              "      <td>2.100000</td>\n",
              "    </tr>\n",
              "    <tr>\n",
              "      <th>max</th>\n",
              "      <td>2020.000000</td>\n",
              "      <td>159999.000000</td>\n",
              "      <td>259000.000000</td>\n",
              "      <td>580.000000</td>\n",
              "      <td>217.300000</td>\n",
              "      <td>6.200000</td>\n",
              "    </tr>\n",
              "  </tbody>\n",
              "</table>\n",
              "</div>"
            ],
            "text/plain": [
              "               year          price  ...           mpg    engineSize\n",
              "count  13119.000000   13119.000000  ...  13119.000000  13119.000000\n",
              "mean    2017.296288   24698.596920  ...     55.155843      2.071530\n",
              "std        2.224709   11842.675542  ...     15.220082      0.572426\n",
              "min     1970.000000     650.000000  ...      1.100000      0.000000\n",
              "25%     2016.000000   17450.000000  ...     45.600000      1.800000\n",
              "50%     2018.000000   22480.000000  ...     56.500000      2.000000\n",
              "75%     2019.000000   28980.000000  ...     64.200000      2.100000\n",
              "max     2020.000000  159999.000000  ...    217.300000      6.200000\n",
              "\n",
              "[8 rows x 6 columns]"
            ]
          },
          "metadata": {},
          "execution_count": 4
        }
      ]
    },
    {
      "cell_type": "code",
      "metadata": {
        "colab": {
          "base_uri": "https://localhost:8080/"
        },
        "id": "Ce8uHu5uhE1K",
        "outputId": "1fc1e45a-c01c-49dc-d4e5-dee471e9c74c"
      },
      "source": [
        "dataFrame.isnull().sum()\n",
        "#demek ki eksik verimiz yok sumlarımız 0 geldiği için"
      ],
      "execution_count": null,
      "outputs": [
        {
          "output_type": "execute_result",
          "data": {
            "text/plain": [
              "year            0\n",
              "price           0\n",
              "transmission    0\n",
              "mileage         0\n",
              "tax             0\n",
              "mpg             0\n",
              "engineSize      0\n",
              "dtype: int64"
            ]
          },
          "metadata": {},
          "execution_count": 6
        }
      ]
    },
    {
      "cell_type": "code",
      "metadata": {
        "colab": {
          "base_uri": "https://localhost:8080/",
          "height": 403
        },
        "id": "TFgTaI6lhhhW",
        "outputId": "7e7c4afc-0f39-4123-d991-9d873174d341"
      },
      "source": [
        "plt.figure(figsize=(7,5))\n",
        "sbn.displot(dataFrame['price'])\n",
        "#dağılım grafiği çizecek"
      ],
      "execution_count": null,
      "outputs": [
        {
          "output_type": "execute_result",
          "data": {
            "text/plain": [
              "<seaborn.axisgrid.FacetGrid at 0x7f1b4e321690>"
            ]
          },
          "metadata": {},
          "execution_count": 9
        },
        {
          "output_type": "display_data",
          "data": {
            "text/plain": [
              "<Figure size 504x360 with 0 Axes>"
            ]
          },
          "metadata": {}
        },
        {
          "output_type": "display_data",
          "data": {
            "image/png": "[encoded data removed]",
            "text/plain": [
              "<Figure size 360x360 with 1 Axes>"
            ]
          },
          "metadata": {
            "needs_background": "light"
          }
        }
      ]
    },
    {
      "cell_type": "code",
      "metadata": {
        "colab": {
          "base_uri": "https://localhost:8080/",
          "height": 350
        },
        "id": "iVMpYi0ZiRfj",
        "outputId": "182cc7f3-58db-478a-ceaa-504ff53f20fe"
      },
      "source": [
        "sbn.countplot(dataFrame['year'])\n",
        "#kaç tane olduğunu gösterecek"
      ],
      "execution_count": null,
      "outputs": [
        {
          "output_type": "stream",
          "name": "stderr",
          "text": [
            "/usr/local/lib/python3.7/dist-packages/seaborn/_decorators.py:43: FutureWarning: Pass the following variable as a keyword arg: x. From version 0.12, the only valid positional argument will be `data`, and passing other arguments without an explicit keyword will result in an error or misinterpretation.\n",
            "  FutureWarning\n"
          ]
        },
        {
          "output_type": "execute_result",
          "data": {
            "text/plain": [
              "<matplotlib.axes._subplots.AxesSubplot at 0x7f1b4eb87e90>"
            ]
          },
          "metadata": {},
          "execution_count": 10
        },
        {
          "output_type": "display_data",
          "data": {
            "image/png": "[encoded data removed]",
            "text/plain": [
              "<Figure size 432x288 with 1 Axes>"
            ]
          },
          "metadata": {
            "needs_background": "light"
          }
        }
      ]
    },
    {
      "cell_type": "code",
      "metadata": {
        "colab": {
          "base_uri": "https://localhost:8080/",
          "height": 235
        },
        "id": "sr_57_G5jCDv",
        "outputId": "3dc84018-6795-4660-ca12-1daf73c62b74"
      },
      "source": [
        "dataFrame.corr()\n",
        "#korelasyon yapıyoruz"
      ],
      "execution_count": null,
      "outputs": [
        {
          "output_type": "execute_result",
          "data": {
            "text/html": [
              "<div>\n",
              "<style scoped>\n",
              "    .dataframe tbody tr th:only-of-type {\n",
              "        vertical-align: middle;\n",
              "    }\n",
              "\n",
              "    .dataframe tbody tr th {\n",
              "        vertical-align: top;\n",
              "    }\n",
              "\n",
              "    .dataframe thead th {\n",
              "        text-align: right;\n",
              "    }\n",
              "</style>\n",
              "<table border=\"1\" class=\"dataframe\">\n",
              "  <thead>\n",
              "    <tr style=\"text-align: right;\">\n",
              "      <th></th>\n",
              "      <th>year</th>\n",
              "      <th>price</th>\n",
              "      <th>mileage</th>\n",
              "      <th>tax</th>\n",
              "      <th>mpg</th>\n",
              "      <th>engineSize</th>\n",
              "    </tr>\n",
              "  </thead>\n",
              "  <tbody>\n",
              "    <tr>\n",
              "      <th>year</th>\n",
              "      <td>1.000000</td>\n",
              "      <td>0.520712</td>\n",
              "      <td>-0.738027</td>\n",
              "      <td>0.012480</td>\n",
              "      <td>-0.094626</td>\n",
              "      <td>-0.142147</td>\n",
              "    </tr>\n",
              "    <tr>\n",
              "      <th>price</th>\n",
              "      <td>0.520712</td>\n",
              "      <td>1.000000</td>\n",
              "      <td>-0.537214</td>\n",
              "      <td>0.268717</td>\n",
              "      <td>-0.438445</td>\n",
              "      <td>0.516126</td>\n",
              "    </tr>\n",
              "    <tr>\n",
              "      <th>mileage</th>\n",
              "      <td>-0.738027</td>\n",
              "      <td>-0.537214</td>\n",
              "      <td>1.000000</td>\n",
              "      <td>-0.160223</td>\n",
              "      <td>0.202850</td>\n",
              "      <td>0.063652</td>\n",
              "    </tr>\n",
              "    <tr>\n",
              "      <th>tax</th>\n",
              "      <td>0.012480</td>\n",
              "      <td>0.268717</td>\n",
              "      <td>-0.160223</td>\n",
              "      <td>1.000000</td>\n",
              "      <td>-0.513742</td>\n",
              "      <td>0.338341</td>\n",
              "    </tr>\n",
              "    <tr>\n",
              "      <th>mpg</th>\n",
              "      <td>-0.094626</td>\n",
              "      <td>-0.438445</td>\n",
              "      <td>0.202850</td>\n",
              "      <td>-0.513742</td>\n",
              "      <td>1.000000</td>\n",
              "      <td>-0.339862</td>\n",
              "    </tr>\n",
              "    <tr>\n",
              "      <th>engineSize</th>\n",
              "      <td>-0.142147</td>\n",
              "      <td>0.516126</td>\n",
              "      <td>0.063652</td>\n",
              "      <td>0.338341</td>\n",
              "      <td>-0.339862</td>\n",
              "      <td>1.000000</td>\n",
              "    </tr>\n",
              "  </tbody>\n",
              "</table>\n",
              "</div>"
            ],
            "text/plain": [
              "                year     price   mileage       tax       mpg  engineSize\n",
              "year        1.000000  0.520712 -0.738027  0.012480 -0.094626   -0.142147\n",
              "price       0.520712  1.000000 -0.537214  0.268717 -0.438445    0.516126\n",
              "mileage    -0.738027 -0.537214  1.000000 -0.160223  0.202850    0.063652\n",
              "tax         0.012480  0.268717 -0.160223  1.000000 -0.513742    0.338341\n",
              "mpg        -0.094626 -0.438445  0.202850 -0.513742  1.000000   -0.339862\n",
              "engineSize -0.142147  0.516126  0.063652  0.338341 -0.339862    1.000000"
            ]
          },
          "metadata": {},
          "execution_count": 11
        }
      ]
    },
    {
      "cell_type": "code",
      "metadata": {
        "colab": {
          "base_uri": "https://localhost:8080/"
        },
        "id": "MsLpgUpcjYx0",
        "outputId": "9640f806-4e45-43ec-f8eb-4de928be9974"
      },
      "source": [
        "dataFrame.corr()['price'].sort_values()\n",
        "#sadece price col unu getiriyor fakat sort yaparak"
      ],
      "execution_count": null,
      "outputs": [
        {
          "output_type": "execute_result",
          "data": {
            "text/plain": [
              "mileage      -0.537214\n",
              "mpg          -0.438445\n",
              "tax           0.268717\n",
              "engineSize    0.516126\n",
              "year          0.520712\n",
              "price         1.000000\n",
              "Name: price, dtype: float64"
            ]
          },
          "metadata": {},
          "execution_count": 12
        }
      ]
    },
    {
      "cell_type": "code",
      "metadata": {
        "colab": {
          "base_uri": "https://localhost:8080/",
          "height": 296
        },
        "id": "fZFUs5vkjRGr",
        "outputId": "8e5450e4-e033-4165-df00-994739ac906a"
      },
      "source": [
        "sbn.scatterplot(x='mileage',y='price',data=dataFrame)\n",
        "#nokta nokta çiziyor"
      ],
      "execution_count": null,
      "outputs": [
        {
          "output_type": "execute_result",
          "data": {
            "text/plain": [
              "<matplotlib.axes._subplots.AxesSubplot at 0x7f1b4e257050>"
            ]
          },
          "metadata": {},
          "execution_count": 13
        },
        {
          "output_type": "display_data",
          "data": {
            "image/png": "[encoded data removed]",
            "text/plain": [
              "<Figure size 432x288 with 1 Axes>"
            ]
          },
          "metadata": {
            "needs_background": "light"
          }
        }
      ]
    },
    {
      "cell_type": "code",
      "metadata": {
        "colab": {
          "base_uri": "https://localhost:8080/",
          "height": 669
        },
        "id": "OLtYO0PemKI9",
        "outputId": "42ea604c-f7b0-49b6-8438-2dc8203ed02c"
      },
      "source": [
        "dataFrame.sort_values('price',ascending=False).head(n=20)"
      ],
      "execution_count": null,
      "outputs": [
        {
          "output_type": "execute_result",
          "data": {
            "text/html": [
              "<div>\n",
              "<style scoped>\n",
              "    .dataframe tbody tr th:only-of-type {\n",
              "        vertical-align: middle;\n",
              "    }\n",
              "\n",
              "    .dataframe tbody tr th {\n",
              "        vertical-align: top;\n",
              "    }\n",
              "\n",
              "    .dataframe thead th {\n",
              "        text-align: right;\n",
              "    }\n",
              "</style>\n",
              "<table border=\"1\" class=\"dataframe\">\n",
              "  <thead>\n",
              "    <tr style=\"text-align: right;\">\n",
              "      <th></th>\n",
              "      <th>year</th>\n",
              "      <th>price</th>\n",
              "      <th>transmission</th>\n",
              "      <th>mileage</th>\n",
              "      <th>tax</th>\n",
              "      <th>mpg</th>\n",
              "      <th>engineSize</th>\n",
              "    </tr>\n",
              "  </thead>\n",
              "  <tbody>\n",
              "    <tr>\n",
              "      <th>6199</th>\n",
              "      <td>2020</td>\n",
              "      <td>159999</td>\n",
              "      <td>Semi-Auto</td>\n",
              "      <td>1350</td>\n",
              "      <td>145</td>\n",
              "      <td>21.4</td>\n",
              "      <td>4.0</td>\n",
              "    </tr>\n",
              "    <tr>\n",
              "      <th>10044</th>\n",
              "      <td>2020</td>\n",
              "      <td>154998</td>\n",
              "      <td>Automatic</td>\n",
              "      <td>3000</td>\n",
              "      <td>150</td>\n",
              "      <td>21.4</td>\n",
              "      <td>4.0</td>\n",
              "    </tr>\n",
              "    <tr>\n",
              "      <th>5</th>\n",
              "      <td>2011</td>\n",
              "      <td>149948</td>\n",
              "      <td>Automatic</td>\n",
              "      <td>3000</td>\n",
              "      <td>570</td>\n",
              "      <td>21.4</td>\n",
              "      <td>6.2</td>\n",
              "    </tr>\n",
              "    <tr>\n",
              "      <th>8737</th>\n",
              "      <td>2019</td>\n",
              "      <td>140319</td>\n",
              "      <td>Semi-Auto</td>\n",
              "      <td>785</td>\n",
              "      <td>150</td>\n",
              "      <td>22.1</td>\n",
              "      <td>4.0</td>\n",
              "    </tr>\n",
              "    <tr>\n",
              "      <th>6386</th>\n",
              "      <td>2018</td>\n",
              "      <td>139995</td>\n",
              "      <td>Semi-Auto</td>\n",
              "      <td>13046</td>\n",
              "      <td>145</td>\n",
              "      <td>21.4</td>\n",
              "      <td>4.0</td>\n",
              "    </tr>\n",
              "    <tr>\n",
              "      <th>8</th>\n",
              "      <td>2019</td>\n",
              "      <td>139948</td>\n",
              "      <td>Automatic</td>\n",
              "      <td>12000</td>\n",
              "      <td>145</td>\n",
              "      <td>21.4</td>\n",
              "      <td>4.0</td>\n",
              "    </tr>\n",
              "    <tr>\n",
              "      <th>9133</th>\n",
              "      <td>2019</td>\n",
              "      <td>139559</td>\n",
              "      <td>Semi-Auto</td>\n",
              "      <td>1000</td>\n",
              "      <td>145</td>\n",
              "      <td>22.1</td>\n",
              "      <td>4.0</td>\n",
              "    </tr>\n",
              "    <tr>\n",
              "      <th>8821</th>\n",
              "      <td>2020</td>\n",
              "      <td>138439</td>\n",
              "      <td>Semi-Auto</td>\n",
              "      <td>1000</td>\n",
              "      <td>145</td>\n",
              "      <td>22.1</td>\n",
              "      <td>4.0</td>\n",
              "    </tr>\n",
              "    <tr>\n",
              "      <th>5902</th>\n",
              "      <td>2018</td>\n",
              "      <td>135771</td>\n",
              "      <td>Semi-Auto</td>\n",
              "      <td>19000</td>\n",
              "      <td>145</td>\n",
              "      <td>21.4</td>\n",
              "      <td>4.0</td>\n",
              "    </tr>\n",
              "    <tr>\n",
              "      <th>7864</th>\n",
              "      <td>2018</td>\n",
              "      <td>135124</td>\n",
              "      <td>Semi-Auto</td>\n",
              "      <td>18234</td>\n",
              "      <td>150</td>\n",
              "      <td>21.4</td>\n",
              "      <td>4.0</td>\n",
              "    </tr>\n",
              "    <tr>\n",
              "      <th>8673</th>\n",
              "      <td>2019</td>\n",
              "      <td>134219</td>\n",
              "      <td>Semi-Auto</td>\n",
              "      <td>1000</td>\n",
              "      <td>145</td>\n",
              "      <td>24.8</td>\n",
              "      <td>4.0</td>\n",
              "    </tr>\n",
              "    <tr>\n",
              "      <th>6210</th>\n",
              "      <td>2019</td>\n",
              "      <td>129990</td>\n",
              "      <td>Automatic</td>\n",
              "      <td>1000</td>\n",
              "      <td>145</td>\n",
              "      <td>24.8</td>\n",
              "      <td>4.0</td>\n",
              "    </tr>\n",
              "    <tr>\n",
              "      <th>4759</th>\n",
              "      <td>2019</td>\n",
              "      <td>126000</td>\n",
              "      <td>Automatic</td>\n",
              "      <td>250</td>\n",
              "      <td>145</td>\n",
              "      <td>24.6</td>\n",
              "      <td>4.0</td>\n",
              "    </tr>\n",
              "    <tr>\n",
              "      <th>2647</th>\n",
              "      <td>2019</td>\n",
              "      <td>125796</td>\n",
              "      <td>Automatic</td>\n",
              "      <td>637</td>\n",
              "      <td>145</td>\n",
              "      <td>24.8</td>\n",
              "      <td>4.0</td>\n",
              "    </tr>\n",
              "    <tr>\n",
              "      <th>6223</th>\n",
              "      <td>2019</td>\n",
              "      <td>124999</td>\n",
              "      <td>Automatic</td>\n",
              "      <td>1500</td>\n",
              "      <td>145</td>\n",
              "      <td>31.7</td>\n",
              "      <td>4.0</td>\n",
              "    </tr>\n",
              "    <tr>\n",
              "      <th>4094</th>\n",
              "      <td>2019</td>\n",
              "      <td>124366</td>\n",
              "      <td>Semi-Auto</td>\n",
              "      <td>880</td>\n",
              "      <td>145</td>\n",
              "      <td>24.8</td>\n",
              "      <td>4.0</td>\n",
              "    </tr>\n",
              "    <tr>\n",
              "      <th>2629</th>\n",
              "      <td>2019</td>\n",
              "      <td>123846</td>\n",
              "      <td>Semi-Auto</td>\n",
              "      <td>2951</td>\n",
              "      <td>145</td>\n",
              "      <td>22.1</td>\n",
              "      <td>4.0</td>\n",
              "    </tr>\n",
              "    <tr>\n",
              "      <th>7134</th>\n",
              "      <td>2019</td>\n",
              "      <td>115359</td>\n",
              "      <td>Semi-Auto</td>\n",
              "      <td>1000</td>\n",
              "      <td>145</td>\n",
              "      <td>30.1</td>\n",
              "      <td>4.0</td>\n",
              "    </tr>\n",
              "    <tr>\n",
              "      <th>9159</th>\n",
              "      <td>2019</td>\n",
              "      <td>114199</td>\n",
              "      <td>Semi-Auto</td>\n",
              "      <td>891</td>\n",
              "      <td>145</td>\n",
              "      <td>22.6</td>\n",
              "      <td>4.0</td>\n",
              "    </tr>\n",
              "    <tr>\n",
              "      <th>1980</th>\n",
              "      <td>2019</td>\n",
              "      <td>109995</td>\n",
              "      <td>Semi-Auto</td>\n",
              "      <td>4688</td>\n",
              "      <td>150</td>\n",
              "      <td>31.7</td>\n",
              "      <td>4.0</td>\n",
              "    </tr>\n",
              "  </tbody>\n",
              "</table>\n",
              "</div>"
            ],
            "text/plain": [
              "       year   price transmission  mileage  tax   mpg  engineSize\n",
              "6199   2020  159999    Semi-Auto     1350  145  21.4         4.0\n",
              "10044  2020  154998    Automatic     3000  150  21.4         4.0\n",
              "5      2011  149948    Automatic     3000  570  21.4         6.2\n",
              "8737   2019  140319    Semi-Auto      785  150  22.1         4.0\n",
              "6386   2018  139995    Semi-Auto    13046  145  21.4         4.0\n",
              "8      2019  139948    Automatic    12000  145  21.4         4.0\n",
              "9133   2019  139559    Semi-Auto     1000  145  22.1         4.0\n",
              "8821   2020  138439    Semi-Auto     1000  145  22.1         4.0\n",
              "5902   2018  135771    Semi-Auto    19000  145  21.4         4.0\n",
              "7864   2018  135124    Semi-Auto    18234  150  21.4         4.0\n",
              "8673   2019  134219    Semi-Auto     1000  145  24.8         4.0\n",
              "6210   2019  129990    Automatic     1000  145  24.8         4.0\n",
              "4759   2019  126000    Automatic      250  145  24.6         4.0\n",
              "2647   2019  125796    Automatic      637  145  24.8         4.0\n",
              "6223   2019  124999    Automatic     1500  145  31.7         4.0\n",
              "4094   2019  124366    Semi-Auto      880  145  24.8         4.0\n",
              "2629   2019  123846    Semi-Auto     2951  145  22.1         4.0\n",
              "7134   2019  115359    Semi-Auto     1000  145  30.1         4.0\n",
              "9159   2019  114199    Semi-Auto      891  145  22.6         4.0\n",
              "1980   2019  109995    Semi-Auto     4688  150  31.7         4.0"
            ]
          },
          "metadata": {},
          "execution_count": 15
        }
      ]
    },
    {
      "cell_type": "code",
      "metadata": {
        "colab": {
          "base_uri": "https://localhost:8080/"
        },
        "id": "-DKBrhAvma-J",
        "outputId": "0a2a933c-7a72-4daa-c236-679bf819f00e"
      },
      "source": [
        "len(dataFrame)"
      ],
      "execution_count": null,
      "outputs": [
        {
          "output_type": "execute_result",
          "data": {
            "text/plain": [
              "13119"
            ]
          },
          "metadata": {},
          "execution_count": 16
        }
      ]
    },
    {
      "cell_type": "code",
      "metadata": {
        "colab": {
          "base_uri": "https://localhost:8080/"
        },
        "id": "wJFDi4gEons4",
        "outputId": "b6154a26-4fbf-4ae7-c8ca-48f14b23ce0e"
      },
      "source": [
        "#verinin %99 alırsanız verinin genel yapısını bozmazsınız\n",
        "len(dataFrame) * 0.01"
      ],
      "execution_count": null,
      "outputs": [
        {
          "output_type": "execute_result",
          "data": {
            "text/plain": [
              "131.19"
            ]
          },
          "metadata": {},
          "execution_count": 17
        }
      ]
    },
    {
      "cell_type": "code",
      "metadata": {
        "id": "Gt8oC-CUowLW"
      },
      "source": [
        "#en yüksek 131 arabayı bulalım ve bunları atalım\n",
        "#indexe göre yerini bulacağız\n",
        "ninenineDf = dataFrame.sort_values('price',ascending=False).iloc[131:]"
      ],
      "execution_count": null,
      "outputs": []
    },
    {
      "cell_type": "code",
      "metadata": {
        "colab": {
          "base_uri": "https://localhost:8080/",
          "height": 297
        },
        "id": "mXVgoGA1pf1W",
        "outputId": "46d57c6d-8d70-4126-ec42-19015b16f2b0"
      },
      "source": [
        "ninenineDf.describe()"
      ],
      "execution_count": null,
      "outputs": [
        {
          "output_type": "execute_result",
          "data": {
            "text/html": [
              "<div>\n",
              "<style scoped>\n",
              "    .dataframe tbody tr th:only-of-type {\n",
              "        vertical-align: middle;\n",
              "    }\n",
              "\n",
              "    .dataframe tbody tr th {\n",
              "        vertical-align: top;\n",
              "    }\n",
              "\n",
              "    .dataframe thead th {\n",
              "        text-align: right;\n",
              "    }\n",
              "</style>\n",
              "<table border=\"1\" class=\"dataframe\">\n",
              "  <thead>\n",
              "    <tr style=\"text-align: right;\">\n",
              "      <th></th>\n",
              "      <th>year</th>\n",
              "      <th>price</th>\n",
              "      <th>mileage</th>\n",
              "      <th>tax</th>\n",
              "      <th>mpg</th>\n",
              "      <th>engineSize</th>\n",
              "    </tr>\n",
              "  </thead>\n",
              "  <tbody>\n",
              "    <tr>\n",
              "      <th>count</th>\n",
              "      <td>12988.000000</td>\n",
              "      <td>12988.000000</td>\n",
              "      <td>12988.000000</td>\n",
              "      <td>12988.000000</td>\n",
              "      <td>12988.000000</td>\n",
              "      <td>12988.000000</td>\n",
              "    </tr>\n",
              "    <tr>\n",
              "      <th>mean</th>\n",
              "      <td>2017.281876</td>\n",
              "      <td>24074.926933</td>\n",
              "      <td>22132.741146</td>\n",
              "      <td>129.689714</td>\n",
              "      <td>55.437142</td>\n",
              "      <td>2.050901</td>\n",
              "    </tr>\n",
              "    <tr>\n",
              "      <th>std</th>\n",
              "      <td>2.228515</td>\n",
              "      <td>9866.224575</td>\n",
              "      <td>21196.776401</td>\n",
              "      <td>65.183076</td>\n",
              "      <td>15.025999</td>\n",
              "      <td>0.532596</td>\n",
              "    </tr>\n",
              "    <tr>\n",
              "      <th>min</th>\n",
              "      <td>1970.000000</td>\n",
              "      <td>650.000000</td>\n",
              "      <td>1.000000</td>\n",
              "      <td>0.000000</td>\n",
              "      <td>1.100000</td>\n",
              "      <td>0.000000</td>\n",
              "    </tr>\n",
              "    <tr>\n",
              "      <th>25%</th>\n",
              "      <td>2016.000000</td>\n",
              "      <td>17357.500000</td>\n",
              "      <td>6322.000000</td>\n",
              "      <td>125.000000</td>\n",
              "      <td>45.600000</td>\n",
              "      <td>1.675000</td>\n",
              "    </tr>\n",
              "    <tr>\n",
              "      <th>50%</th>\n",
              "      <td>2018.000000</td>\n",
              "      <td>22299.000000</td>\n",
              "      <td>15369.500000</td>\n",
              "      <td>145.000000</td>\n",
              "      <td>56.500000</td>\n",
              "      <td>2.000000</td>\n",
              "    </tr>\n",
              "    <tr>\n",
              "      <th>75%</th>\n",
              "      <td>2019.000000</td>\n",
              "      <td>28706.000000</td>\n",
              "      <td>31982.250000</td>\n",
              "      <td>145.000000</td>\n",
              "      <td>64.200000</td>\n",
              "      <td>2.100000</td>\n",
              "    </tr>\n",
              "    <tr>\n",
              "      <th>max</th>\n",
              "      <td>2020.000000</td>\n",
              "      <td>65990.000000</td>\n",
              "      <td>259000.000000</td>\n",
              "      <td>580.000000</td>\n",
              "      <td>217.300000</td>\n",
              "      <td>6.200000</td>\n",
              "    </tr>\n",
              "  </tbody>\n",
              "</table>\n",
              "</div>"
            ],
            "text/plain": [
              "               year         price  ...           mpg    engineSize\n",
              "count  12988.000000  12988.000000  ...  12988.000000  12988.000000\n",
              "mean    2017.281876  24074.926933  ...     55.437142      2.050901\n",
              "std        2.228515   9866.224575  ...     15.025999      0.532596\n",
              "min     1970.000000    650.000000  ...      1.100000      0.000000\n",
              "25%     2016.000000  17357.500000  ...     45.600000      1.675000\n",
              "50%     2018.000000  22299.000000  ...     56.500000      2.000000\n",
              "75%     2019.000000  28706.000000  ...     64.200000      2.100000\n",
              "max     2020.000000  65990.000000  ...    217.300000      6.200000\n",
              "\n",
              "[8 rows x 6 columns]"
            ]
          },
          "metadata": {},
          "execution_count": 20
        }
      ]
    },
    {
      "cell_type": "code",
      "metadata": {
        "colab": {
          "base_uri": "https://localhost:8080/",
          "height": 403
        },
        "id": "baFfiahDprgN",
        "outputId": "683f7bf5-f5ac-4378-e8d7-a7d1dffb1a6c"
      },
      "source": [
        "plt.figure(figsize=(7,5))\n",
        "sbn.displot(ninenineDf['price'])\n",
        "#daha normal bir dağılım elde ettik."
      ],
      "execution_count": null,
      "outputs": [
        {
          "output_type": "execute_result",
          "data": {
            "text/plain": [
              "<seaborn.axisgrid.FacetGrid at 0x7f1b4ddc3990>"
            ]
          },
          "metadata": {},
          "execution_count": 21
        },
        {
          "output_type": "display_data",
          "data": {
            "text/plain": [
              "<Figure size 504x360 with 0 Axes>"
            ]
          },
          "metadata": {}
        },
        {
          "output_type": "display_data",
          "data": {
            "image/png": "[encoded data removed]",
            "text/plain": [
              "<Figure size 360x360 with 1 Axes>"
            ]
          },
          "metadata": {
            "needs_background": "light"
          }
        }
      ]
    },
    {
      "cell_type": "code",
      "metadata": {
        "colab": {
          "base_uri": "https://localhost:8080/"
        },
        "id": "b00NCTTpp1R1",
        "outputId": "7e83b683-4f1c-4f7d-8e9c-ab9b39aaa881"
      },
      "source": [
        "dataFrame.groupby('year').mean()['price']"
      ],
      "execution_count": null,
      "outputs": [
        {
          "output_type": "execute_result",
          "data": {
            "text/plain": [
              "year\n",
              "1970    24999.000000\n",
              "1997     9995.000000\n",
              "1998     8605.000000\n",
              "1999     5995.000000\n",
              "2000     5743.333333\n",
              "2001     4957.900000\n",
              "2002     5820.444444\n",
              "2003     4878.000000\n",
              "2004     4727.615385\n",
              "2005     4426.111111\n",
              "2006     4036.875000\n",
              "2007     5136.045455\n",
              "2008     6967.437500\n",
              "2009     6166.764706\n",
              "2010     8308.473684\n",
              "2011    12624.894737\n",
              "2012    10845.140351\n",
              "2013    11939.842466\n",
              "2014    14042.936864\n",
              "2015    16731.780020\n",
              "2016    19307.892948\n",
              "2017    21514.307854\n",
              "2018    25720.162918\n",
              "2019    31290.020865\n",
              "2020    35433.282337\n",
              "Name: price, dtype: float64"
            ]
          },
          "metadata": {},
          "execution_count": 22
        }
      ]
    },
    {
      "cell_type": "code",
      "metadata": {
        "colab": {
          "base_uri": "https://localhost:8080/"
        },
        "id": "X4wus-ZvqGJJ",
        "outputId": "2606dfe5-7131-4620-b18d-d4ca99f010c9"
      },
      "source": [
        "ninenineDf.groupby('year').mean()['price']"
      ],
      "execution_count": null,
      "outputs": [
        {
          "output_type": "execute_result",
          "data": {
            "text/plain": [
              "year\n",
              "1970    24999.000000\n",
              "1997     9995.000000\n",
              "1998     8605.000000\n",
              "1999     5995.000000\n",
              "2000     5743.333333\n",
              "2001     4957.900000\n",
              "2002     5820.444444\n",
              "2003     4878.000000\n",
              "2004     4727.615385\n",
              "2005     4426.111111\n",
              "2006     4036.875000\n",
              "2007     5136.045455\n",
              "2008     6967.437500\n",
              "2009     6166.764706\n",
              "2010     8308.473684\n",
              "2011     8913.459459\n",
              "2012    10845.140351\n",
              "2013    11939.842466\n",
              "2014    14042.936864\n",
              "2015    16647.822222\n",
              "2016    19223.558943\n",
              "2017    21356.280421\n",
              "2018    24800.844506\n",
              "2019    30289.524832\n",
              "2020    34234.794872\n",
              "Name: price, dtype: float64"
            ]
          },
          "metadata": {},
          "execution_count": 23
        }
      ]
    },
    {
      "cell_type": "code",
      "metadata": {
        "colab": {
          "base_uri": "https://localhost:8080/"
        },
        "id": "0QFK7xjvqSn7",
        "outputId": "b424bf93-4116-4f02-8c57-0b5e370b87d7"
      },
      "source": [
        "dataFrame[dataFrame.year != 1970].groupby('year').mean()['price']\n"
      ],
      "execution_count": null,
      "outputs": [
        {
          "output_type": "execute_result",
          "data": {
            "text/plain": [
              "year\n",
              "1997     9995.000000\n",
              "1998     8605.000000\n",
              "1999     5995.000000\n",
              "2000     5743.333333\n",
              "2001     4957.900000\n",
              "2002     5820.444444\n",
              "2003     4878.000000\n",
              "2004     4727.615385\n",
              "2005     4426.111111\n",
              "2006     4036.875000\n",
              "2007     5136.045455\n",
              "2008     6967.437500\n",
              "2009     6166.764706\n",
              "2010     8308.473684\n",
              "2011    12624.894737\n",
              "2012    10845.140351\n",
              "2013    11939.842466\n",
              "2014    14042.936864\n",
              "2015    16731.780020\n",
              "2016    19307.892948\n",
              "2017    21514.307854\n",
              "2018    25720.162918\n",
              "2019    31290.020865\n",
              "2020    35433.282337\n",
              "Name: price, dtype: float64"
            ]
          },
          "metadata": {},
          "execution_count": 24
        }
      ]
    },
    {
      "cell_type": "code",
      "metadata": {
        "id": "8dkP_XjyuYqv"
      },
      "source": [
        "dataFrame=ninenineDf"
      ],
      "execution_count": null,
      "outputs": []
    },
    {
      "cell_type": "code",
      "metadata": {
        "colab": {
          "base_uri": "https://localhost:8080/",
          "height": 297
        },
        "id": "Ocfo2tMYuang",
        "outputId": "7f3391ff-39ec-4dd0-c44e-e9e187e0e3e8"
      },
      "source": [
        "dataFrame.describe()"
      ],
      "execution_count": null,
      "outputs": [
        {
          "output_type": "execute_result",
          "data": {
            "text/html": [
              "<div>\n",
              "<style scoped>\n",
              "    .dataframe tbody tr th:only-of-type {\n",
              "        vertical-align: middle;\n",
              "    }\n",
              "\n",
              "    .dataframe tbody tr th {\n",
              "        vertical-align: top;\n",
              "    }\n",
              "\n",
              "    .dataframe thead th {\n",
              "        text-align: right;\n",
              "    }\n",
              "</style>\n",
              "<table border=\"1\" class=\"dataframe\">\n",
              "  <thead>\n",
              "    <tr style=\"text-align: right;\">\n",
              "      <th></th>\n",
              "      <th>year</th>\n",
              "      <th>price</th>\n",
              "      <th>mileage</th>\n",
              "      <th>tax</th>\n",
              "      <th>mpg</th>\n",
              "      <th>engineSize</th>\n",
              "    </tr>\n",
              "  </thead>\n",
              "  <tbody>\n",
              "    <tr>\n",
              "      <th>count</th>\n",
              "      <td>12988.000000</td>\n",
              "      <td>12988.000000</td>\n",
              "      <td>12988.000000</td>\n",
              "      <td>12988.000000</td>\n",
              "      <td>12988.000000</td>\n",
              "      <td>12988.000000</td>\n",
              "    </tr>\n",
              "    <tr>\n",
              "      <th>mean</th>\n",
              "      <td>2017.281876</td>\n",
              "      <td>24074.926933</td>\n",
              "      <td>22132.741146</td>\n",
              "      <td>129.689714</td>\n",
              "      <td>55.437142</td>\n",
              "      <td>2.050901</td>\n",
              "    </tr>\n",
              "    <tr>\n",
              "      <th>std</th>\n",
              "      <td>2.228515</td>\n",
              "      <td>9866.224575</td>\n",
              "      <td>21196.776401</td>\n",
              "      <td>65.183076</td>\n",
              "      <td>15.025999</td>\n",
              "      <td>0.532596</td>\n",
              "    </tr>\n",
              "    <tr>\n",
              "      <th>min</th>\n",
              "      <td>1970.000000</td>\n",
              "      <td>650.000000</td>\n",
              "      <td>1.000000</td>\n",
              "      <td>0.000000</td>\n",
              "      <td>1.100000</td>\n",
              "      <td>0.000000</td>\n",
              "    </tr>\n",
              "    <tr>\n",
              "      <th>25%</th>\n",
              "      <td>2016.000000</td>\n",
              "      <td>17357.500000</td>\n",
              "      <td>6322.000000</td>\n",
              "      <td>125.000000</td>\n",
              "      <td>45.600000</td>\n",
              "      <td>1.675000</td>\n",
              "    </tr>\n",
              "    <tr>\n",
              "      <th>50%</th>\n",
              "      <td>2018.000000</td>\n",
              "      <td>22299.000000</td>\n",
              "      <td>15369.500000</td>\n",
              "      <td>145.000000</td>\n",
              "      <td>56.500000</td>\n",
              "      <td>2.000000</td>\n",
              "    </tr>\n",
              "    <tr>\n",
              "      <th>75%</th>\n",
              "      <td>2019.000000</td>\n",
              "      <td>28706.000000</td>\n",
              "      <td>31982.250000</td>\n",
              "      <td>145.000000</td>\n",
              "      <td>64.200000</td>\n",
              "      <td>2.100000</td>\n",
              "    </tr>\n",
              "    <tr>\n",
              "      <th>max</th>\n",
              "      <td>2020.000000</td>\n",
              "      <td>65990.000000</td>\n",
              "      <td>259000.000000</td>\n",
              "      <td>580.000000</td>\n",
              "      <td>217.300000</td>\n",
              "      <td>6.200000</td>\n",
              "    </tr>\n",
              "  </tbody>\n",
              "</table>\n",
              "</div>"
            ],
            "text/plain": [
              "               year         price  ...           mpg    engineSize\n",
              "count  12988.000000  12988.000000  ...  12988.000000  12988.000000\n",
              "mean    2017.281876  24074.926933  ...     55.437142      2.050901\n",
              "std        2.228515   9866.224575  ...     15.025999      0.532596\n",
              "min     1970.000000    650.000000  ...      1.100000      0.000000\n",
              "25%     2016.000000  17357.500000  ...     45.600000      1.675000\n",
              "50%     2018.000000  22299.000000  ...     56.500000      2.000000\n",
              "75%     2019.000000  28706.000000  ...     64.200000      2.100000\n",
              "max     2020.000000  65990.000000  ...    217.300000      6.200000\n",
              "\n",
              "[8 rows x 6 columns]"
            ]
          },
          "metadata": {},
          "execution_count": 26
        }
      ]
    },
    {
      "cell_type": "code",
      "metadata": {
        "id": "HhZ2NSYfudgz"
      },
      "source": [
        "dataFrame=dataFrame[dataFrame.year != 1970]\n",
        "#gereksiz veri olduğunu düşündüğümüz için 1970 i çıkardık"
      ],
      "execution_count": null,
      "outputs": []
    },
    {
      "cell_type": "code",
      "metadata": {
        "colab": {
          "base_uri": "https://localhost:8080/"
        },
        "id": "pBieiGzHuiGM",
        "outputId": "7c4f336a-dd80-4e5d-9d97-62eb95ec397d"
      },
      "source": [
        "dataFrame.groupby('year').mean()['price']"
      ],
      "execution_count": null,
      "outputs": [
        {
          "output_type": "execute_result",
          "data": {
            "text/plain": [
              "year\n",
              "1997     9995.000000\n",
              "1998     8605.000000\n",
              "1999     5995.000000\n",
              "2000     5743.333333\n",
              "2001     4957.900000\n",
              "2002     5820.444444\n",
              "2003     4878.000000\n",
              "2004     4727.615385\n",
              "2005     4426.111111\n",
              "2006     4036.875000\n",
              "2007     5136.045455\n",
              "2008     6967.437500\n",
              "2009     6166.764706\n",
              "2010     8308.473684\n",
              "2011     8913.459459\n",
              "2012    10845.140351\n",
              "2013    11939.842466\n",
              "2014    14042.936864\n",
              "2015    16647.822222\n",
              "2016    19223.558943\n",
              "2017    21356.280421\n",
              "2018    24800.844506\n",
              "2019    30289.524832\n",
              "2020    34234.794872\n",
              "Name: price, dtype: float64"
            ]
          },
          "metadata": {},
          "execution_count": 30
        }
      ]
    },
    {
      "cell_type": "code",
      "metadata": {
        "colab": {
          "base_uri": "https://localhost:8080/",
          "height": 204
        },
        "id": "D3i59SL4uoxr",
        "outputId": "e41f85ad-8786-47ea-af5f-a6ba2abeede5"
      },
      "source": [
        "dataFrame.head()"
      ],
      "execution_count": null,
      "outputs": [
        {
          "output_type": "execute_result",
          "data": {
            "text/html": [
              "<div>\n",
              "<style scoped>\n",
              "    .dataframe tbody tr th:only-of-type {\n",
              "        vertical-align: middle;\n",
              "    }\n",
              "\n",
              "    .dataframe tbody tr th {\n",
              "        vertical-align: top;\n",
              "    }\n",
              "\n",
              "    .dataframe thead th {\n",
              "        text-align: right;\n",
              "    }\n",
              "</style>\n",
              "<table border=\"1\" class=\"dataframe\">\n",
              "  <thead>\n",
              "    <tr style=\"text-align: right;\">\n",
              "      <th></th>\n",
              "      <th>year</th>\n",
              "      <th>price</th>\n",
              "      <th>transmission</th>\n",
              "      <th>mileage</th>\n",
              "      <th>tax</th>\n",
              "      <th>mpg</th>\n",
              "      <th>engineSize</th>\n",
              "    </tr>\n",
              "  </thead>\n",
              "  <tbody>\n",
              "    <tr>\n",
              "      <th>6177</th>\n",
              "      <td>2019</td>\n",
              "      <td>65990</td>\n",
              "      <td>Semi-Auto</td>\n",
              "      <td>5076</td>\n",
              "      <td>150</td>\n",
              "      <td>30.4</td>\n",
              "      <td>3.0</td>\n",
              "    </tr>\n",
              "    <tr>\n",
              "      <th>5779</th>\n",
              "      <td>2020</td>\n",
              "      <td>65990</td>\n",
              "      <td>Semi-Auto</td>\n",
              "      <td>999</td>\n",
              "      <td>145</td>\n",
              "      <td>28.0</td>\n",
              "      <td>4.0</td>\n",
              "    </tr>\n",
              "    <tr>\n",
              "      <th>3191</th>\n",
              "      <td>2020</td>\n",
              "      <td>65980</td>\n",
              "      <td>Semi-Auto</td>\n",
              "      <td>3999</td>\n",
              "      <td>145</td>\n",
              "      <td>28.0</td>\n",
              "      <td>4.0</td>\n",
              "    </tr>\n",
              "    <tr>\n",
              "      <th>4727</th>\n",
              "      <td>2019</td>\n",
              "      <td>65000</td>\n",
              "      <td>Semi-Auto</td>\n",
              "      <td>3398</td>\n",
              "      <td>145</td>\n",
              "      <td>27.2</td>\n",
              "      <td>4.0</td>\n",
              "    </tr>\n",
              "    <tr>\n",
              "      <th>8814</th>\n",
              "      <td>2019</td>\n",
              "      <td>64999</td>\n",
              "      <td>Semi-Auto</td>\n",
              "      <td>119</td>\n",
              "      <td>145</td>\n",
              "      <td>40.9</td>\n",
              "      <td>3.0</td>\n",
              "    </tr>\n",
              "  </tbody>\n",
              "</table>\n",
              "</div>"
            ],
            "text/plain": [
              "      year  price transmission  mileage  tax   mpg  engineSize\n",
              "6177  2019  65990    Semi-Auto     5076  150  30.4         3.0\n",
              "5779  2020  65990    Semi-Auto      999  145  28.0         4.0\n",
              "3191  2020  65980    Semi-Auto     3999  145  28.0         4.0\n",
              "4727  2019  65000    Semi-Auto     3398  145  27.2         4.0\n",
              "8814  2019  64999    Semi-Auto      119  145  40.9         3.0"
            ]
          },
          "metadata": {},
          "execution_count": 31
        }
      ]
    },
    {
      "cell_type": "code",
      "metadata": {
        "id": "vKa4sHf3u0_w"
      },
      "source": [
        "dataFrame=dataFrame.drop('transmission',axis=1)\n",
        "#bu col verisini düşürdük çünkü sayısal değil"
      ],
      "execution_count": null,
      "outputs": []
    },
    {
      "cell_type": "code",
      "metadata": {
        "id": "0RMIgMk9ve_G"
      },
      "source": [
        "y=dataFrame['price'].values\n",
        "x=dataFrame.drop('price',axis=1).values"
      ],
      "execution_count": null,
      "outputs": []
    },
    {
      "cell_type": "code",
      "metadata": {
        "colab": {
          "base_uri": "https://localhost:8080/"
        },
        "id": "Og6hcC3lv69-",
        "outputId": "7663cf27-2241-488a-f0a7-0a242f1a2b94"
      },
      "source": [
        "x"
      ],
      "execution_count": null,
      "outputs": [
        {
          "output_type": "execute_result",
          "data": {
            "text/plain": [
              "array([[2.01900e+03, 5.07600e+03, 1.50000e+02, 3.04000e+01, 3.00000e+00],\n",
              "       [2.02000e+03, 9.99000e+02, 1.45000e+02, 2.80000e+01, 4.00000e+00],\n",
              "       [2.02000e+03, 3.99900e+03, 1.45000e+02, 2.80000e+01, 4.00000e+00],\n",
              "       ...,\n",
              "       [2.00000e+03, 8.70000e+04, 2.65000e+02, 2.72000e+01, 3.20000e+00],\n",
              "       [2.01000e+03, 1.16126e+05, 1.45000e+02, 5.43000e+01, 2.00000e+00],\n",
              "       [2.00300e+03, 1.09090e+05, 2.35000e+02, 4.00000e+01, 1.40000e+00]])"
            ]
          },
          "metadata": {},
          "execution_count": 36
        }
      ]
    },
    {
      "cell_type": "code",
      "metadata": {
        "colab": {
          "base_uri": "https://localhost:8080/"
        },
        "id": "9U6KwPFswBhN",
        "outputId": "2a0d841e-173f-423f-c6d6-769934713fc0"
      },
      "source": [
        "y"
      ],
      "execution_count": null,
      "outputs": [
        {
          "output_type": "execute_result",
          "data": {
            "text/plain": [
              "array([65990, 65990, 65980, ...,  1490,  1350,   650])"
            ]
          },
          "metadata": {},
          "execution_count": 37
        }
      ]
    },
    {
      "cell_type": "code",
      "metadata": {
        "id": "1DkbKT7_wC20"
      },
      "source": [
        "from sklearn.model_selection import train_test_split "
      ],
      "execution_count": null,
      "outputs": []
    },
    {
      "cell_type": "code",
      "metadata": {
        "id": "_YQ-lfEzwHY2"
      },
      "source": [
        "x_train,x_test,y_train,y_test = train_test_split(x,y,test_size=0.3,random_state=10)"
      ],
      "execution_count": null,
      "outputs": []
    },
    {
      "cell_type": "code",
      "metadata": {
        "colab": {
          "base_uri": "https://localhost:8080/"
        },
        "id": "oulQaWbDwYi_",
        "outputId": "c85ef5c8-51a6-4882-fb47-014b30a32531"
      },
      "source": [
        "len(x_train)"
      ],
      "execution_count": null,
      "outputs": [
        {
          "output_type": "execute_result",
          "data": {
            "text/plain": [
              "9090"
            ]
          },
          "metadata": {},
          "execution_count": 40
        }
      ]
    },
    {
      "cell_type": "code",
      "metadata": {
        "colab": {
          "base_uri": "https://localhost:8080/"
        },
        "id": "bb220n9RwhRm",
        "outputId": "a1945417-7e6c-4bae-b47b-d2a672ce8afa"
      },
      "source": [
        "len(x_test)"
      ],
      "execution_count": null,
      "outputs": [
        {
          "output_type": "execute_result",
          "data": {
            "text/plain": [
              "3897"
            ]
          },
          "metadata": {},
          "execution_count": 41
        }
      ]
    },
    {
      "cell_type": "code",
      "metadata": {
        "id": "9Tq7r40lwjAA"
      },
      "source": [
        "from sklearn.preprocessing import MinMaxScaler"
      ],
      "execution_count": null,
      "outputs": []
    },
    {
      "cell_type": "code",
      "metadata": {
        "id": "JAywKaNRwnbi"
      },
      "source": [
        "scaler = MinMaxScaler()"
      ],
      "execution_count": null,
      "outputs": []
    },
    {
      "cell_type": "code",
      "metadata": {
        "id": "RjgqE1cnwowQ"
      },
      "source": [
        "x_train=scaler.fit_transform(x_train)"
      ],
      "execution_count": null,
      "outputs": []
    },
    {
      "cell_type": "code",
      "metadata": {
        "id": "-M8ygiF6wub9"
      },
      "source": [
        "x_test=scaler.fit_transform(x_test)"
      ],
      "execution_count": null,
      "outputs": []
    },
    {
      "cell_type": "code",
      "metadata": {
        "id": "BiVxcUDuwzAd"
      },
      "source": [
        "from tensorflow.keras.models import Sequential\n",
        "from tensorflow.keras.layers import Dense"
      ],
      "execution_count": null,
      "outputs": []
    },
    {
      "cell_type": "code",
      "metadata": {
        "colab": {
          "base_uri": "https://localhost:8080/"
        },
        "id": "An1XSKZyxBZ6",
        "outputId": "a5b295e0-a1bd-4b3b-c17f-923873c59ec0"
      },
      "source": [
        "x_train.shape"
      ],
      "execution_count": null,
      "outputs": [
        {
          "output_type": "execute_result",
          "data": {
            "text/plain": [
              "(9090, 5)"
            ]
          },
          "metadata": {},
          "execution_count": 48
        }
      ]
    },
    {
      "cell_type": "code",
      "metadata": {
        "id": "-HbqD9MWxFBZ"
      },
      "source": [
        "model = Sequential()\n",
        "\n",
        "model.add(Dense(20,activation='relu'))\n",
        "model.add(Dense(20,activation='relu'))\n",
        "model.add(Dense(20,activation='relu'))\n",
        "model.add(Dense(20,activation='relu'))\n",
        "model.add(Dense(20,activation='relu'))\n",
        "model.add(Dense(20,activation='relu'))\n",
        "\n",
        "model.add(Dense(1))\n",
        "\n",
        "model.compile(optimizer='adam',loss='mse')"
      ],
      "execution_count": null,
      "outputs": []
    },
    {
      "cell_type": "code",
      "metadata": {
        "colab": {
          "base_uri": "https://localhost:8080/"
        },
        "id": "476p4orPxcQt",
        "outputId": "eaef3287-2f26-4663-8dfa-803aa495f37d"
      },
      "source": [
        "model.fit(x=x_train,y=y_train,validation_data= (x_test,y_test),batch_size=250,epochs=300)"
      ],
      "execution_count": null,
      "outputs": [
        {
          "output_type": "stream",
          "name": "stdout",
          "text": [
            "Epoch 1/300\n",
            "37/37 [==============================] - 1s 5ms/step - loss: 672142464.0000 - val_loss: 688091136.0000\n",
            "Epoch 2/300\n",
            "37/37 [==============================] - 0s 3ms/step - loss: 672041728.0000 - val_loss: 687792000.0000\n",
            "Epoch 3/300\n",
            "37/37 [==============================] - 0s 2ms/step - loss: 670829312.0000 - val_loss: 684450944.0000\n",
            "Epoch 4/300\n",
            "37/37 [==============================] - 0s 2ms/step - loss: 659855296.0000 - val_loss: 657356800.0000\n",
            "Epoch 5/300\n",
            "37/37 [==============================] - 0s 3ms/step - loss: 590865024.0000 - val_loss: 514538880.0000\n",
            "Epoch 6/300\n",
            "37/37 [==============================] - 0s 3ms/step - loss: 343854592.0000 - val_loss: 164140112.0000\n",
            "Epoch 7/300\n",
            "37/37 [==============================] - 0s 3ms/step - loss: 99530032.0000 - val_loss: 88416008.0000\n",
            "Epoch 8/300\n",
            "37/37 [==============================] - 0s 2ms/step - loss: 84878024.0000 - val_loss: 85546200.0000\n",
            "Epoch 9/300\n",
            "37/37 [==============================] - 0s 2ms/step - loss: 83125536.0000 - val_loss: 83609192.0000\n",
            "Epoch 10/300\n",
            "37/37 [==============================] - 0s 2ms/step - loss: 81680664.0000 - val_loss: 81854968.0000\n",
            "Epoch 11/300\n",
            "37/37 [==============================] - 0s 2ms/step - loss: 80215152.0000 - val_loss: 80193288.0000\n",
            "Epoch 12/300\n",
            "37/37 [==============================] - 0s 3ms/step - loss: 78696112.0000 - val_loss: 78161672.0000\n",
            "Epoch 13/300\n",
            "37/37 [==============================] - 0s 3ms/step - loss: 77091856.0000 - val_loss: 76285640.0000\n",
            "Epoch 14/300\n",
            "37/37 [==============================] - 0s 2ms/step - loss: 75355768.0000 - val_loss: 74012240.0000\n",
            "Epoch 15/300\n",
            "37/37 [==============================] - 0s 2ms/step - loss: 73532248.0000 - val_loss: 71820200.0000\n",
            "Epoch 16/300\n",
            "37/37 [==============================] - 0s 3ms/step - loss: 71547272.0000 - val_loss: 69506520.0000\n",
            "Epoch 17/300\n",
            "37/37 [==============================] - 0s 3ms/step - loss: 69506296.0000 - val_loss: 66979560.0000\n",
            "Epoch 18/300\n",
            "37/37 [==============================] - 0s 2ms/step - loss: 67386208.0000 - val_loss: 64915100.0000\n",
            "Epoch 19/300\n",
            "37/37 [==============================] - 0s 2ms/step - loss: 65205856.0000 - val_loss: 62596040.0000\n",
            "Epoch 20/300\n",
            "37/37 [==============================] - 0s 2ms/step - loss: 62867288.0000 - val_loss: 59458868.0000\n",
            "Epoch 21/300\n",
            "37/37 [==============================] - 0s 2ms/step - loss: 60418280.0000 - val_loss: 56812728.0000\n",
            "Epoch 22/300\n",
            "37/37 [==============================] - 0s 2ms/step - loss: 57835860.0000 - val_loss: 53810180.0000\n",
            "Epoch 23/300\n",
            "37/37 [==============================] - 0s 2ms/step - loss: 55115992.0000 - val_loss: 51061372.0000\n",
            "Epoch 24/300\n",
            "37/37 [==============================] - 0s 2ms/step - loss: 52320300.0000 - val_loss: 48537548.0000\n",
            "Epoch 25/300\n",
            "37/37 [==============================] - 0s 2ms/step - loss: 49382852.0000 - val_loss: 45625788.0000\n",
            "Epoch 26/300\n",
            "37/37 [==============================] - 0s 2ms/step - loss: 46396276.0000 - val_loss: 43584536.0000\n",
            "Epoch 27/300\n",
            "37/37 [==============================] - 0s 2ms/step - loss: 43468948.0000 - val_loss: 41052924.0000\n",
            "Epoch 28/300\n",
            "37/37 [==============================] - 0s 2ms/step - loss: 40654476.0000 - val_loss: 39006496.0000\n",
            "Epoch 29/300\n",
            "37/37 [==============================] - 0s 2ms/step - loss: 38122968.0000 - val_loss: 37687684.0000\n",
            "Epoch 30/300\n",
            "37/37 [==============================] - 0s 2ms/step - loss: 35839820.0000 - val_loss: 36605832.0000\n",
            "Epoch 31/300\n",
            "37/37 [==============================] - 0s 2ms/step - loss: 33841132.0000 - val_loss: 35511636.0000\n",
            "Epoch 32/300\n",
            "37/37 [==============================] - 0s 3ms/step - loss: 32143176.0000 - val_loss: 34805116.0000\n",
            "Epoch 33/300\n",
            "37/37 [==============================] - 0s 2ms/step - loss: 30479524.0000 - val_loss: 32564528.0000\n",
            "Epoch 34/300\n",
            "37/37 [==============================] - 0s 2ms/step - loss: 28859020.0000 - val_loss: 31756712.0000\n",
            "Epoch 35/300\n",
            "37/37 [==============================] - 0s 2ms/step - loss: 27466374.0000 - val_loss: 30174418.0000\n",
            "Epoch 36/300\n",
            "37/37 [==============================] - 0s 2ms/step - loss: 26085704.0000 - val_loss: 28579156.0000\n",
            "Epoch 37/300\n",
            "37/37 [==============================] - 0s 2ms/step - loss: 24982200.0000 - val_loss: 27712308.0000\n",
            "Epoch 38/300\n",
            "37/37 [==============================] - 0s 2ms/step - loss: 24043534.0000 - val_loss: 26852644.0000\n",
            "Epoch 39/300\n",
            "37/37 [==============================] - 0s 2ms/step - loss: 23354210.0000 - val_loss: 26694212.0000\n",
            "Epoch 40/300\n",
            "37/37 [==============================] - 0s 2ms/step - loss: 22876538.0000 - val_loss: 26393732.0000\n",
            "Epoch 41/300\n",
            "37/37 [==============================] - 0s 2ms/step - loss: 22534412.0000 - val_loss: 26719846.0000\n",
            "Epoch 42/300\n",
            "37/37 [==============================] - 0s 2ms/step - loss: 22245180.0000 - val_loss: 26040752.0000\n",
            "Epoch 43/300\n",
            "37/37 [==============================] - 0s 2ms/step - loss: 22013094.0000 - val_loss: 26642432.0000\n",
            "Epoch 44/300\n",
            "37/37 [==============================] - 0s 2ms/step - loss: 21895782.0000 - val_loss: 26510214.0000\n",
            "Epoch 45/300\n",
            "37/37 [==============================] - 0s 3ms/step - loss: 21755552.0000 - val_loss: 27657856.0000\n",
            "Epoch 46/300\n",
            "37/37 [==============================] - 0s 2ms/step - loss: 21738726.0000 - val_loss: 26513718.0000\n",
            "Epoch 47/300\n",
            "37/37 [==============================] - 0s 2ms/step - loss: 21547662.0000 - val_loss: 26504048.0000\n",
            "Epoch 48/300\n",
            "37/37 [==============================] - 0s 2ms/step - loss: 21454432.0000 - val_loss: 25987656.0000\n",
            "Epoch 49/300\n",
            "37/37 [==============================] - 0s 3ms/step - loss: 21311418.0000 - val_loss: 25917854.0000\n",
            "Epoch 50/300\n",
            "37/37 [==============================] - 0s 2ms/step - loss: 21261298.0000 - val_loss: 26856390.0000\n",
            "Epoch 51/300\n",
            "37/37 [==============================] - 0s 2ms/step - loss: 21271276.0000 - val_loss: 25174032.0000\n",
            "Epoch 52/300\n",
            "37/37 [==============================] - 0s 2ms/step - loss: 21198170.0000 - val_loss: 26081114.0000\n",
            "Epoch 53/300\n",
            "37/37 [==============================] - 0s 2ms/step - loss: 21130722.0000 - val_loss: 24925856.0000\n",
            "Epoch 54/300\n",
            "37/37 [==============================] - 0s 2ms/step - loss: 21016928.0000 - val_loss: 25234816.0000\n",
            "Epoch 55/300\n",
            "37/37 [==============================] - 0s 2ms/step - loss: 20971204.0000 - val_loss: 24670974.0000\n",
            "Epoch 56/300\n",
            "37/37 [==============================] - 0s 2ms/step - loss: 20954142.0000 - val_loss: 25004518.0000\n",
            "Epoch 57/300\n",
            "37/37 [==============================] - 0s 2ms/step - loss: 20842680.0000 - val_loss: 25922240.0000\n",
            "Epoch 58/300\n",
            "37/37 [==============================] - 0s 2ms/step - loss: 20810782.0000 - val_loss: 25285838.0000\n",
            "Epoch 59/300\n",
            "37/37 [==============================] - 0s 2ms/step - loss: 20816950.0000 - val_loss: 26264612.0000\n",
            "Epoch 60/300\n",
            "37/37 [==============================] - 0s 2ms/step - loss: 20759000.0000 - val_loss: 25240744.0000\n",
            "Epoch 61/300\n",
            "37/37 [==============================] - 0s 2ms/step - loss: 20728032.0000 - val_loss: 24227682.0000\n",
            "Epoch 62/300\n",
            "37/37 [==============================] - 0s 2ms/step - loss: 20670330.0000 - val_loss: 24863518.0000\n",
            "Epoch 63/300\n",
            "37/37 [==============================] - 0s 2ms/step - loss: 20634300.0000 - val_loss: 25763186.0000\n",
            "Epoch 64/300\n",
            "37/37 [==============================] - 0s 2ms/step - loss: 20582720.0000 - val_loss: 25772362.0000\n",
            "Epoch 65/300\n",
            "37/37 [==============================] - 0s 2ms/step - loss: 20546038.0000 - val_loss: 25102508.0000\n",
            "Epoch 66/300\n",
            "37/37 [==============================] - 0s 2ms/step - loss: 20495876.0000 - val_loss: 25359092.0000\n",
            "Epoch 67/300\n",
            "37/37 [==============================] - 0s 2ms/step - loss: 20454306.0000 - val_loss: 24324178.0000\n",
            "Epoch 68/300\n",
            "37/37 [==============================] - 0s 2ms/step - loss: 20446590.0000 - val_loss: 24433482.0000\n",
            "Epoch 69/300\n",
            "37/37 [==============================] - 0s 2ms/step - loss: 20387710.0000 - val_loss: 24030262.0000\n",
            "Epoch 70/300\n",
            "37/37 [==============================] - 0s 2ms/step - loss: 20357910.0000 - val_loss: 24400376.0000\n",
            "Epoch 71/300\n",
            "37/37 [==============================] - 0s 2ms/step - loss: 20358620.0000 - val_loss: 25413930.0000\n",
            "Epoch 72/300\n",
            "37/37 [==============================] - 0s 2ms/step - loss: 20334690.0000 - val_loss: 24020604.0000\n",
            "Epoch 73/300\n",
            "37/37 [==============================] - 0s 2ms/step - loss: 20315792.0000 - val_loss: 24346600.0000\n",
            "Epoch 74/300\n",
            "37/37 [==============================] - 0s 2ms/step - loss: 20259230.0000 - val_loss: 24177468.0000\n",
            "Epoch 75/300\n",
            "37/37 [==============================] - 0s 2ms/step - loss: 20171432.0000 - val_loss: 24944056.0000\n",
            "Epoch 76/300\n",
            "37/37 [==============================] - 0s 2ms/step - loss: 20221978.0000 - val_loss: 27129508.0000\n",
            "Epoch 77/300\n",
            "37/37 [==============================] - 0s 2ms/step - loss: 20211442.0000 - val_loss: 24699128.0000\n",
            "Epoch 78/300\n",
            "37/37 [==============================] - 0s 2ms/step - loss: 20091460.0000 - val_loss: 25363190.0000\n",
            "Epoch 79/300\n",
            "37/37 [==============================] - 0s 2ms/step - loss: 20117594.0000 - val_loss: 24796840.0000\n",
            "Epoch 80/300\n",
            "37/37 [==============================] - 0s 2ms/step - loss: 20068782.0000 - val_loss: 25938836.0000\n",
            "Epoch 81/300\n",
            "37/37 [==============================] - 0s 3ms/step - loss: 20035986.0000 - val_loss: 24504708.0000\n",
            "Epoch 82/300\n",
            "37/37 [==============================] - 0s 2ms/step - loss: 19991330.0000 - val_loss: 23816900.0000\n",
            "Epoch 83/300\n",
            "37/37 [==============================] - 0s 2ms/step - loss: 19970842.0000 - val_loss: 23371916.0000\n",
            "Epoch 84/300\n",
            "37/37 [==============================] - 0s 3ms/step - loss: 20023816.0000 - val_loss: 23467170.0000\n",
            "Epoch 85/300\n",
            "37/37 [==============================] - 0s 2ms/step - loss: 19912912.0000 - val_loss: 23040442.0000\n",
            "Epoch 86/300\n",
            "37/37 [==============================] - 0s 2ms/step - loss: 20125500.0000 - val_loss: 23225252.0000\n",
            "Epoch 87/300\n",
            "37/37 [==============================] - 0s 2ms/step - loss: 19839682.0000 - val_loss: 23769384.0000\n",
            "Epoch 88/300\n",
            "37/37 [==============================] - 0s 2ms/step - loss: 19785792.0000 - val_loss: 23314422.0000\n",
            "Epoch 89/300\n",
            "37/37 [==============================] - 0s 2ms/step - loss: 19820348.0000 - val_loss: 24004978.0000\n",
            "Epoch 90/300\n",
            "37/37 [==============================] - 0s 2ms/step - loss: 19805978.0000 - val_loss: 24201140.0000\n",
            "Epoch 91/300\n",
            "37/37 [==============================] - 0s 2ms/step - loss: 19816044.0000 - val_loss: 24334170.0000\n",
            "Epoch 92/300\n",
            "37/37 [==============================] - 0s 2ms/step - loss: 19657014.0000 - val_loss: 23668592.0000\n",
            "Epoch 93/300\n",
            "37/37 [==============================] - 0s 2ms/step - loss: 19611026.0000 - val_loss: 23812736.0000\n",
            "Epoch 94/300\n",
            "37/37 [==============================] - 0s 2ms/step - loss: 19615132.0000 - val_loss: 23897058.0000\n",
            "Epoch 95/300\n",
            "37/37 [==============================] - 0s 2ms/step - loss: 19540382.0000 - val_loss: 23517906.0000\n",
            "Epoch 96/300\n",
            "37/37 [==============================] - 0s 2ms/step - loss: 19590190.0000 - val_loss: 23557016.0000\n",
            "Epoch 97/300\n",
            "37/37 [==============================] - 0s 3ms/step - loss: 19534836.0000 - val_loss: 22778472.0000\n",
            "Epoch 98/300\n",
            "37/37 [==============================] - 0s 3ms/step - loss: 19503994.0000 - val_loss: 23817150.0000\n",
            "Epoch 99/300\n",
            "37/37 [==============================] - 0s 3ms/step - loss: 19466510.0000 - val_loss: 23105902.0000\n",
            "Epoch 100/300\n",
            "37/37 [==============================] - 0s 3ms/step - loss: 19482642.0000 - val_loss: 23346524.0000\n",
            "Epoch 101/300\n",
            "37/37 [==============================] - 0s 2ms/step - loss: 19432476.0000 - val_loss: 24872272.0000\n",
            "Epoch 102/300\n",
            "37/37 [==============================] - 0s 2ms/step - loss: 19394832.0000 - val_loss: 23227318.0000\n",
            "Epoch 103/300\n",
            "37/37 [==============================] - 0s 2ms/step - loss: 19431728.0000 - val_loss: 22555362.0000\n",
            "Epoch 104/300\n",
            "37/37 [==============================] - 0s 2ms/step - loss: 19334464.0000 - val_loss: 23491032.0000\n",
            "Epoch 105/300\n",
            "37/37 [==============================] - 0s 2ms/step - loss: 19335500.0000 - val_loss: 23411694.0000\n",
            "Epoch 106/300\n",
            "37/37 [==============================] - 0s 2ms/step - loss: 19236012.0000 - val_loss: 23571742.0000\n",
            "Epoch 107/300\n",
            "37/37 [==============================] - 0s 2ms/step - loss: 19282030.0000 - val_loss: 22958748.0000\n",
            "Epoch 108/300\n",
            "37/37 [==============================] - 0s 3ms/step - loss: 19208156.0000 - val_loss: 23466384.0000\n",
            "Epoch 109/300\n",
            "37/37 [==============================] - 0s 3ms/step - loss: 19175310.0000 - val_loss: 22515674.0000\n",
            "Epoch 110/300\n",
            "37/37 [==============================] - 0s 3ms/step - loss: 19217770.0000 - val_loss: 23537682.0000\n",
            "Epoch 111/300\n",
            "37/37 [==============================] - 0s 2ms/step - loss: 19127570.0000 - val_loss: 23452776.0000\n",
            "Epoch 112/300\n",
            "37/37 [==============================] - 0s 2ms/step - loss: 19115448.0000 - val_loss: 22836886.0000\n",
            "Epoch 113/300\n",
            "37/37 [==============================] - 0s 2ms/step - loss: 19088830.0000 - val_loss: 23377852.0000\n",
            "Epoch 114/300\n",
            "37/37 [==============================] - 0s 2ms/step - loss: 19088972.0000 - val_loss: 23560428.0000\n",
            "Epoch 115/300\n",
            "37/37 [==============================] - 0s 2ms/step - loss: 19062070.0000 - val_loss: 23894738.0000\n",
            "Epoch 116/300\n",
            "37/37 [==============================] - 0s 2ms/step - loss: 19061440.0000 - val_loss: 24509966.0000\n",
            "Epoch 117/300\n",
            "37/37 [==============================] - 0s 2ms/step - loss: 19122052.0000 - val_loss: 22501118.0000\n",
            "Epoch 118/300\n",
            "37/37 [==============================] - 0s 2ms/step - loss: 19055112.0000 - val_loss: 23441350.0000\n",
            "Epoch 119/300\n",
            "37/37 [==============================] - 0s 3ms/step - loss: 18942794.0000 - val_loss: 22744308.0000\n",
            "Epoch 120/300\n",
            "37/37 [==============================] - 0s 3ms/step - loss: 18923020.0000 - val_loss: 22289092.0000\n",
            "Epoch 121/300\n",
            "37/37 [==============================] - 0s 2ms/step - loss: 18931258.0000 - val_loss: 22381768.0000\n",
            "Epoch 122/300\n",
            "37/37 [==============================] - 0s 2ms/step - loss: 18880612.0000 - val_loss: 23252620.0000\n",
            "Epoch 123/300\n",
            "37/37 [==============================] - 0s 3ms/step - loss: 18858614.0000 - val_loss: 24021428.0000\n",
            "Epoch 124/300\n",
            "37/37 [==============================] - 0s 2ms/step - loss: 18955148.0000 - val_loss: 23185812.0000\n",
            "Epoch 125/300\n",
            "37/37 [==============================] - 0s 2ms/step - loss: 18834278.0000 - val_loss: 22920710.0000\n",
            "Epoch 126/300\n",
            "37/37 [==============================] - 0s 2ms/step - loss: 18800794.0000 - val_loss: 22100874.0000\n",
            "Epoch 127/300\n",
            "37/37 [==============================] - 0s 3ms/step - loss: 18907338.0000 - val_loss: 22853442.0000\n",
            "Epoch 128/300\n",
            "37/37 [==============================] - 0s 2ms/step - loss: 18858098.0000 - val_loss: 21870436.0000\n",
            "Epoch 129/300\n",
            "37/37 [==============================] - 0s 2ms/step - loss: 18799862.0000 - val_loss: 22270312.0000\n",
            "Epoch 130/300\n",
            "37/37 [==============================] - 0s 2ms/step - loss: 18732714.0000 - val_loss: 23451360.0000\n",
            "Epoch 131/300\n",
            "37/37 [==============================] - 0s 2ms/step - loss: 18731200.0000 - val_loss: 22870952.0000\n",
            "Epoch 132/300\n",
            "37/37 [==============================] - 0s 3ms/step - loss: 18696496.0000 - val_loss: 22866930.0000\n",
            "Epoch 133/300\n",
            "37/37 [==============================] - 0s 3ms/step - loss: 18689624.0000 - val_loss: 23157472.0000\n",
            "Epoch 134/300\n",
            "37/37 [==============================] - 0s 3ms/step - loss: 18743568.0000 - val_loss: 21772670.0000\n",
            "Epoch 135/300\n",
            "37/37 [==============================] - 0s 2ms/step - loss: 18659380.0000 - val_loss: 21793532.0000\n",
            "Epoch 136/300\n",
            "37/37 [==============================] - 0s 2ms/step - loss: 18626672.0000 - val_loss: 21994082.0000\n",
            "Epoch 137/300\n",
            "37/37 [==============================] - 0s 2ms/step - loss: 18660246.0000 - val_loss: 21842204.0000\n",
            "Epoch 138/300\n",
            "37/37 [==============================] - 0s 3ms/step - loss: 18597782.0000 - val_loss: 22033626.0000\n",
            "Epoch 139/300\n",
            "37/37 [==============================] - 0s 2ms/step - loss: 18560512.0000 - val_loss: 21929230.0000\n",
            "Epoch 140/300\n",
            "37/37 [==============================] - 0s 2ms/step - loss: 18569044.0000 - val_loss: 21854486.0000\n",
            "Epoch 141/300\n",
            "37/37 [==============================] - 0s 2ms/step - loss: 18657548.0000 - val_loss: 21944588.0000\n",
            "Epoch 142/300\n",
            "37/37 [==============================] - 0s 3ms/step - loss: 18581120.0000 - val_loss: 22835606.0000\n",
            "Epoch 143/300\n",
            "37/37 [==============================] - 0s 2ms/step - loss: 18549906.0000 - val_loss: 21624706.0000\n",
            "Epoch 144/300\n",
            "37/37 [==============================] - 0s 2ms/step - loss: 18543674.0000 - val_loss: 22271470.0000\n",
            "Epoch 145/300\n",
            "37/37 [==============================] - 0s 2ms/step - loss: 18523564.0000 - val_loss: 22551956.0000\n",
            "Epoch 146/300\n",
            "37/37 [==============================] - 0s 2ms/step - loss: 18530942.0000 - val_loss: 21954700.0000\n",
            "Epoch 147/300\n",
            "37/37 [==============================] - 0s 2ms/step - loss: 18464102.0000 - val_loss: 22554000.0000\n",
            "Epoch 148/300\n",
            "37/37 [==============================] - 0s 3ms/step - loss: 18431024.0000 - val_loss: 21933598.0000\n",
            "Epoch 149/300\n",
            "37/37 [==============================] - 0s 2ms/step - loss: 18438912.0000 - val_loss: 22132634.0000\n",
            "Epoch 150/300\n",
            "37/37 [==============================] - 0s 3ms/step - loss: 18529128.0000 - val_loss: 22202302.0000\n",
            "Epoch 151/300\n",
            "37/37 [==============================] - 0s 2ms/step - loss: 18430316.0000 - val_loss: 21073164.0000\n",
            "Epoch 152/300\n",
            "37/37 [==============================] - 0s 2ms/step - loss: 18427718.0000 - val_loss: 21385430.0000\n",
            "Epoch 153/300\n",
            "37/37 [==============================] - 0s 2ms/step - loss: 18436800.0000 - val_loss: 21637328.0000\n",
            "Epoch 154/300\n",
            "37/37 [==============================] - 0s 2ms/step - loss: 18414676.0000 - val_loss: 23154768.0000\n",
            "Epoch 155/300\n",
            "37/37 [==============================] - 0s 2ms/step - loss: 18420156.0000 - val_loss: 21860158.0000\n",
            "Epoch 156/300\n",
            "37/37 [==============================] - 0s 2ms/step - loss: 18397960.0000 - val_loss: 23041744.0000\n",
            "Epoch 157/300\n",
            "37/37 [==============================] - 0s 2ms/step - loss: 18347264.0000 - val_loss: 21390036.0000\n",
            "Epoch 158/300\n",
            "37/37 [==============================] - 0s 2ms/step - loss: 18369866.0000 - val_loss: 21759772.0000\n",
            "Epoch 159/300\n",
            "37/37 [==============================] - 0s 3ms/step - loss: 18364138.0000 - val_loss: 22012650.0000\n",
            "Epoch 160/300\n",
            "37/37 [==============================] - 0s 3ms/step - loss: 18301938.0000 - val_loss: 21065094.0000\n",
            "Epoch 161/300\n",
            "37/37 [==============================] - 0s 2ms/step - loss: 18316154.0000 - val_loss: 22199068.0000\n",
            "Epoch 162/300\n",
            "37/37 [==============================] - 0s 2ms/step - loss: 18299460.0000 - val_loss: 20885386.0000\n",
            "Epoch 163/300\n",
            "37/37 [==============================] - 0s 2ms/step - loss: 18330164.0000 - val_loss: 21323888.0000\n",
            "Epoch 164/300\n",
            "37/37 [==============================] - 0s 3ms/step - loss: 18436118.0000 - val_loss: 22127342.0000\n",
            "Epoch 165/300\n",
            "37/37 [==============================] - 0s 2ms/step - loss: 18308592.0000 - val_loss: 21404604.0000\n",
            "Epoch 166/300\n",
            "37/37 [==============================] - 0s 2ms/step - loss: 18344610.0000 - val_loss: 22036026.0000\n",
            "Epoch 167/300\n",
            "37/37 [==============================] - 0s 2ms/step - loss: 18300616.0000 - val_loss: 20698424.0000\n",
            "Epoch 168/300\n",
            "37/37 [==============================] - 0s 2ms/step - loss: 18336274.0000 - val_loss: 20591110.0000\n",
            "Epoch 169/300\n",
            "37/37 [==============================] - 0s 3ms/step - loss: 18302070.0000 - val_loss: 21061692.0000\n",
            "Epoch 170/300\n",
            "37/37 [==============================] - 0s 2ms/step - loss: 18288470.0000 - val_loss: 21796962.0000\n",
            "Epoch 171/300\n",
            "37/37 [==============================] - 0s 2ms/step - loss: 18234908.0000 - val_loss: 21904776.0000\n",
            "Epoch 172/300\n",
            "37/37 [==============================] - 0s 2ms/step - loss: 18343694.0000 - val_loss: 22338780.0000\n",
            "Epoch 173/300\n",
            "37/37 [==============================] - 0s 2ms/step - loss: 18262974.0000 - val_loss: 21605556.0000\n",
            "Epoch 174/300\n",
            "37/37 [==============================] - 0s 2ms/step - loss: 18229704.0000 - val_loss: 21244504.0000\n",
            "Epoch 175/300\n",
            "37/37 [==============================] - 0s 2ms/step - loss: 18187282.0000 - val_loss: 21088406.0000\n",
            "Epoch 176/300\n",
            "37/37 [==============================] - 0s 2ms/step - loss: 18221608.0000 - val_loss: 21454554.0000\n",
            "Epoch 177/300\n",
            "37/37 [==============================] - 0s 2ms/step - loss: 18257082.0000 - val_loss: 21471786.0000\n",
            "Epoch 178/300\n",
            "37/37 [==============================] - 0s 3ms/step - loss: 18201318.0000 - val_loss: 21044870.0000\n",
            "Epoch 179/300\n",
            "37/37 [==============================] - 0s 2ms/step - loss: 18197464.0000 - val_loss: 21452554.0000\n",
            "Epoch 180/300\n",
            "37/37 [==============================] - 0s 2ms/step - loss: 18167534.0000 - val_loss: 20990986.0000\n",
            "Epoch 181/300\n",
            "37/37 [==============================] - 0s 3ms/step - loss: 18356506.0000 - val_loss: 20812720.0000\n",
            "Epoch 182/300\n",
            "37/37 [==============================] - 0s 3ms/step - loss: 18203948.0000 - val_loss: 21892346.0000\n",
            "Epoch 183/300\n",
            "37/37 [==============================] - 0s 2ms/step - loss: 18179882.0000 - val_loss: 21124218.0000\n",
            "Epoch 184/300\n",
            "37/37 [==============================] - 0s 3ms/step - loss: 18183626.0000 - val_loss: 22224566.0000\n",
            "Epoch 185/300\n",
            "37/37 [==============================] - 0s 3ms/step - loss: 18154872.0000 - val_loss: 20847884.0000\n",
            "Epoch 186/300\n",
            "37/37 [==============================] - 0s 2ms/step - loss: 18141756.0000 - val_loss: 21127076.0000\n",
            "Epoch 187/300\n",
            "37/37 [==============================] - 0s 3ms/step - loss: 18201312.0000 - val_loss: 21984486.0000\n",
            "Epoch 188/300\n",
            "37/37 [==============================] - 0s 3ms/step - loss: 18218726.0000 - val_loss: 20944314.0000\n",
            "Epoch 189/300\n",
            "37/37 [==============================] - 0s 3ms/step - loss: 18182874.0000 - val_loss: 20524476.0000\n",
            "Epoch 190/300\n",
            "37/37 [==============================] - 0s 2ms/step - loss: 18237700.0000 - val_loss: 21610366.0000\n",
            "Epoch 191/300\n",
            "37/37 [==============================] - 0s 3ms/step - loss: 18157804.0000 - val_loss: 21546696.0000\n",
            "Epoch 192/300\n",
            "37/37 [==============================] - 0s 2ms/step - loss: 18169010.0000 - val_loss: 21527078.0000\n",
            "Epoch 193/300\n",
            "37/37 [==============================] - 0s 2ms/step - loss: 18143058.0000 - val_loss: 21629480.0000\n",
            "Epoch 194/300\n",
            "37/37 [==============================] - 0s 2ms/step - loss: 18140802.0000 - val_loss: 20810526.0000\n",
            "Epoch 195/300\n",
            "37/37 [==============================] - 0s 2ms/step - loss: 18077818.0000 - val_loss: 21195356.0000\n",
            "Epoch 196/300\n",
            "37/37 [==============================] - 0s 3ms/step - loss: 18110388.0000 - val_loss: 20705662.0000\n",
            "Epoch 197/300\n",
            "37/37 [==============================] - 0s 3ms/step - loss: 18118642.0000 - val_loss: 20583988.0000\n",
            "Epoch 198/300\n",
            "37/37 [==============================] - 0s 3ms/step - loss: 18127292.0000 - val_loss: 20957452.0000\n",
            "Epoch 199/300\n",
            "37/37 [==============================] - 0s 2ms/step - loss: 18104614.0000 - val_loss: 22294298.0000\n",
            "Epoch 200/300\n",
            "37/37 [==============================] - 0s 3ms/step - loss: 18202418.0000 - val_loss: 20981482.0000\n",
            "Epoch 201/300\n",
            "37/37 [==============================] - 0s 2ms/step - loss: 18102692.0000 - val_loss: 21574058.0000\n",
            "Epoch 202/300\n",
            "37/37 [==============================] - 0s 2ms/step - loss: 18152968.0000 - val_loss: 20825410.0000\n",
            "Epoch 203/300\n",
            "37/37 [==============================] - 0s 2ms/step - loss: 18110702.0000 - val_loss: 22147336.0000\n",
            "Epoch 204/300\n",
            "37/37 [==============================] - 0s 3ms/step - loss: 18137462.0000 - val_loss: 20610218.0000\n",
            "Epoch 205/300\n",
            "37/37 [==============================] - 0s 3ms/step - loss: 18112530.0000 - val_loss: 20574738.0000\n",
            "Epoch 206/300\n",
            "37/37 [==============================] - 0s 3ms/step - loss: 18145188.0000 - val_loss: 20893550.0000\n",
            "Epoch 207/300\n",
            "37/37 [==============================] - 0s 2ms/step - loss: 18095754.0000 - val_loss: 21426622.0000\n",
            "Epoch 208/300\n",
            "37/37 [==============================] - 0s 3ms/step - loss: 18049538.0000 - val_loss: 21690086.0000\n",
            "Epoch 209/300\n",
            "37/37 [==============================] - 0s 2ms/step - loss: 18119394.0000 - val_loss: 20486892.0000\n",
            "Epoch 210/300\n",
            "37/37 [==============================] - 0s 2ms/step - loss: 18089210.0000 - val_loss: 21121962.0000\n",
            "Epoch 211/300\n",
            "37/37 [==============================] - 0s 2ms/step - loss: 18102470.0000 - val_loss: 21437296.0000\n",
            "Epoch 212/300\n",
            "37/37 [==============================] - 0s 3ms/step - loss: 18136046.0000 - val_loss: 20463946.0000\n",
            "Epoch 213/300\n",
            "37/37 [==============================] - 0s 2ms/step - loss: 18097780.0000 - val_loss: 20357530.0000\n",
            "Epoch 214/300\n",
            "37/37 [==============================] - 0s 2ms/step - loss: 18167306.0000 - val_loss: 21070008.0000\n",
            "Epoch 215/300\n",
            "37/37 [==============================] - 0s 3ms/step - loss: 18185820.0000 - val_loss: 20539478.0000\n",
            "Epoch 216/300\n",
            "37/37 [==============================] - 0s 3ms/step - loss: 18079070.0000 - val_loss: 21351324.0000\n",
            "Epoch 217/300\n",
            "37/37 [==============================] - 0s 2ms/step - loss: 18107668.0000 - val_loss: 21663200.0000\n",
            "Epoch 218/300\n",
            "37/37 [==============================] - 0s 2ms/step - loss: 18033578.0000 - val_loss: 20899104.0000\n",
            "Epoch 219/300\n",
            "37/37 [==============================] - 0s 2ms/step - loss: 18145112.0000 - val_loss: 20326628.0000\n",
            "Epoch 220/300\n",
            "37/37 [==============================] - 0s 2ms/step - loss: 18031538.0000 - val_loss: 20649856.0000\n",
            "Epoch 221/300\n",
            "37/37 [==============================] - 0s 2ms/step - loss: 18069192.0000 - val_loss: 20753820.0000\n",
            "Epoch 222/300\n",
            "37/37 [==============================] - 0s 2ms/step - loss: 18058058.0000 - val_loss: 21890224.0000\n",
            "Epoch 223/300\n",
            "37/37 [==============================] - 0s 2ms/step - loss: 18052688.0000 - val_loss: 21004724.0000\n",
            "Epoch 224/300\n",
            "37/37 [==============================] - 0s 2ms/step - loss: 18049886.0000 - val_loss: 21191248.0000\n",
            "Epoch 225/300\n",
            "37/37 [==============================] - 0s 3ms/step - loss: 18089006.0000 - val_loss: 21588468.0000\n",
            "Epoch 226/300\n",
            "37/37 [==============================] - 0s 3ms/step - loss: 18059414.0000 - val_loss: 21222764.0000\n",
            "Epoch 227/300\n",
            "37/37 [==============================] - 0s 2ms/step - loss: 18092156.0000 - val_loss: 20788138.0000\n",
            "Epoch 228/300\n",
            "37/37 [==============================] - 0s 3ms/step - loss: 18031500.0000 - val_loss: 21495686.0000\n",
            "Epoch 229/300\n",
            "37/37 [==============================] - 0s 2ms/step - loss: 18030052.0000 - val_loss: 21129664.0000\n",
            "Epoch 230/300\n",
            "37/37 [==============================] - 0s 2ms/step - loss: 18042942.0000 - val_loss: 20719464.0000\n",
            "Epoch 231/300\n",
            "37/37 [==============================] - 0s 3ms/step - loss: 18136050.0000 - val_loss: 21092622.0000\n",
            "Epoch 232/300\n",
            "37/37 [==============================] - 0s 2ms/step - loss: 18051174.0000 - val_loss: 21553010.0000\n",
            "Epoch 233/300\n",
            "37/37 [==============================] - 0s 2ms/step - loss: 18073582.0000 - val_loss: 20986162.0000\n",
            "Epoch 234/300\n",
            "37/37 [==============================] - 0s 2ms/step - loss: 18017720.0000 - val_loss: 21337532.0000\n",
            "Epoch 235/300\n",
            "37/37 [==============================] - 0s 2ms/step - loss: 18039480.0000 - val_loss: 20952324.0000\n",
            "Epoch 236/300\n",
            "37/37 [==============================] - 0s 2ms/step - loss: 18002614.0000 - val_loss: 21357222.0000\n",
            "Epoch 237/300\n",
            "37/37 [==============================] - 0s 2ms/step - loss: 18054372.0000 - val_loss: 22326850.0000\n",
            "Epoch 238/300\n",
            "37/37 [==============================] - 0s 3ms/step - loss: 18106920.0000 - val_loss: 21053596.0000\n",
            "Epoch 239/300\n",
            "37/37 [==============================] - 0s 3ms/step - loss: 18007686.0000 - val_loss: 20531604.0000\n",
            "Epoch 240/300\n",
            "37/37 [==============================] - 0s 2ms/step - loss: 18108166.0000 - val_loss: 22448866.0000\n",
            "Epoch 241/300\n",
            "37/37 [==============================] - 0s 3ms/step - loss: 18118220.0000 - val_loss: 20452356.0000\n",
            "Epoch 242/300\n",
            "37/37 [==============================] - 0s 2ms/step - loss: 18056566.0000 - val_loss: 21410972.0000\n",
            "Epoch 243/300\n",
            "37/37 [==============================] - 0s 3ms/step - loss: 17991600.0000 - val_loss: 20267994.0000\n",
            "Epoch 244/300\n",
            "37/37 [==============================] - 0s 3ms/step - loss: 18017332.0000 - val_loss: 21096812.0000\n",
            "Epoch 245/300\n",
            "37/37 [==============================] - 0s 2ms/step - loss: 17992358.0000 - val_loss: 20460610.0000\n",
            "Epoch 246/300\n",
            "37/37 [==============================] - 0s 2ms/step - loss: 17999474.0000 - val_loss: 21224434.0000\n",
            "Epoch 247/300\n",
            "37/37 [==============================] - 0s 3ms/step - loss: 18076606.0000 - val_loss: 21005990.0000\n",
            "Epoch 248/300\n",
            "37/37 [==============================] - 0s 3ms/step - loss: 18027910.0000 - val_loss: 20772330.0000\n",
            "Epoch 249/300\n",
            "37/37 [==============================] - 0s 3ms/step - loss: 18016456.0000 - val_loss: 20918192.0000\n",
            "Epoch 250/300\n",
            "37/37 [==============================] - 0s 3ms/step - loss: 18075640.0000 - val_loss: 21449230.0000\n",
            "Epoch 251/300\n",
            "37/37 [==============================] - 0s 2ms/step - loss: 18019674.0000 - val_loss: 21161230.0000\n",
            "Epoch 252/300\n",
            "37/37 [==============================] - 0s 2ms/step - loss: 18018110.0000 - val_loss: 21459028.0000\n",
            "Epoch 253/300\n",
            "37/37 [==============================] - 0s 3ms/step - loss: 18010608.0000 - val_loss: 21262222.0000\n",
            "Epoch 254/300\n",
            "37/37 [==============================] - 0s 3ms/step - loss: 18004972.0000 - val_loss: 21229824.0000\n",
            "Epoch 255/300\n",
            "37/37 [==============================] - 0s 3ms/step - loss: 17999092.0000 - val_loss: 21680030.0000\n",
            "Epoch 256/300\n",
            "37/37 [==============================] - 0s 3ms/step - loss: 17993710.0000 - val_loss: 20690596.0000\n",
            "Epoch 257/300\n",
            "37/37 [==============================] - 0s 2ms/step - loss: 18030710.0000 - val_loss: 19887270.0000\n",
            "Epoch 258/300\n",
            "37/37 [==============================] - 0s 3ms/step - loss: 18003112.0000 - val_loss: 20895816.0000\n",
            "Epoch 259/300\n",
            "37/37 [==============================] - 0s 2ms/step - loss: 18002834.0000 - val_loss: 20590210.0000\n",
            "Epoch 260/300\n",
            "37/37 [==============================] - 0s 3ms/step - loss: 18018640.0000 - val_loss: 21555160.0000\n",
            "Epoch 261/300\n",
            "37/37 [==============================] - 0s 2ms/step - loss: 18010738.0000 - val_loss: 21430048.0000\n",
            "Epoch 262/300\n",
            "37/37 [==============================] - 0s 2ms/step - loss: 18004690.0000 - val_loss: 21178804.0000\n",
            "Epoch 263/300\n",
            "37/37 [==============================] - 0s 2ms/step - loss: 17984240.0000 - val_loss: 20739312.0000\n",
            "Epoch 264/300\n",
            "37/37 [==============================] - 0s 3ms/step - loss: 18065852.0000 - val_loss: 20378130.0000\n",
            "Epoch 265/300\n",
            "37/37 [==============================] - 0s 2ms/step - loss: 17983780.0000 - val_loss: 20231622.0000\n",
            "Epoch 266/300\n",
            "37/37 [==============================] - 0s 2ms/step - loss: 18008324.0000 - val_loss: 20784698.0000\n",
            "Epoch 267/300\n",
            "37/37 [==============================] - 0s 2ms/step - loss: 18001596.0000 - val_loss: 20557976.0000\n",
            "Epoch 268/300\n",
            "37/37 [==============================] - 0s 3ms/step - loss: 17986794.0000 - val_loss: 20465004.0000\n",
            "Epoch 269/300\n",
            "37/37 [==============================] - 0s 2ms/step - loss: 17992204.0000 - val_loss: 20418770.0000\n",
            "Epoch 270/300\n",
            "37/37 [==============================] - 0s 3ms/step - loss: 17981024.0000 - val_loss: 20280648.0000\n",
            "Epoch 271/300\n",
            "37/37 [==============================] - 0s 3ms/step - loss: 17988430.0000 - val_loss: 20610254.0000\n",
            "Epoch 272/300\n",
            "37/37 [==============================] - 0s 3ms/step - loss: 17961198.0000 - val_loss: 21698042.0000\n",
            "Epoch 273/300\n",
            "37/37 [==============================] - 0s 3ms/step - loss: 17961516.0000 - val_loss: 20931030.0000\n",
            "Epoch 274/300\n",
            "37/37 [==============================] - 0s 3ms/step - loss: 17943472.0000 - val_loss: 20391784.0000\n",
            "Epoch 275/300\n",
            "37/37 [==============================] - 0s 2ms/step - loss: 18010632.0000 - val_loss: 21215864.0000\n",
            "Epoch 276/300\n",
            "37/37 [==============================] - 0s 3ms/step - loss: 17932476.0000 - val_loss: 21383304.0000\n",
            "Epoch 277/300\n",
            "37/37 [==============================] - 0s 3ms/step - loss: 17949862.0000 - val_loss: 20246412.0000\n",
            "Epoch 278/300\n",
            "37/37 [==============================] - 0s 3ms/step - loss: 17975176.0000 - val_loss: 21005180.0000\n",
            "Epoch 279/300\n",
            "37/37 [==============================] - 0s 2ms/step - loss: 17945676.0000 - val_loss: 21030472.0000\n",
            "Epoch 280/300\n",
            "37/37 [==============================] - 0s 2ms/step - loss: 17906558.0000 - val_loss: 20591196.0000\n",
            "Epoch 281/300\n",
            "37/37 [==============================] - 0s 2ms/step - loss: 17999370.0000 - val_loss: 19929770.0000\n",
            "Epoch 282/300\n",
            "37/37 [==============================] - 0s 3ms/step - loss: 17994210.0000 - val_loss: 20325990.0000\n",
            "Epoch 283/300\n",
            "37/37 [==============================] - 0s 2ms/step - loss: 18131160.0000 - val_loss: 20146332.0000\n",
            "Epoch 284/300\n",
            "37/37 [==============================] - 0s 2ms/step - loss: 17909674.0000 - val_loss: 20056350.0000\n",
            "Epoch 285/300\n",
            "37/37 [==============================] - 0s 2ms/step - loss: 18060340.0000 - val_loss: 19825606.0000\n",
            "Epoch 286/300\n",
            "37/37 [==============================] - 0s 3ms/step - loss: 17996884.0000 - val_loss: 21312798.0000\n",
            "Epoch 287/300\n",
            "37/37 [==============================] - 0s 2ms/step - loss: 18002010.0000 - val_loss: 20183588.0000\n",
            "Epoch 288/300\n",
            "37/37 [==============================] - 0s 3ms/step - loss: 17981460.0000 - val_loss: 20771064.0000\n",
            "Epoch 289/300\n",
            "37/37 [==============================] - 0s 3ms/step - loss: 17984186.0000 - val_loss: 21623788.0000\n",
            "Epoch 290/300\n",
            "37/37 [==============================] - 0s 3ms/step - loss: 17949646.0000 - val_loss: 20822178.0000\n",
            "Epoch 291/300\n",
            "37/37 [==============================] - 0s 2ms/step - loss: 17915136.0000 - val_loss: 21769528.0000\n",
            "Epoch 292/300\n",
            "37/37 [==============================] - 0s 2ms/step - loss: 18035210.0000 - val_loss: 20762034.0000\n",
            "Epoch 293/300\n",
            "37/37 [==============================] - 0s 2ms/step - loss: 17905432.0000 - val_loss: 20760172.0000\n",
            "Epoch 294/300\n",
            "37/37 [==============================] - 0s 2ms/step - loss: 17952204.0000 - val_loss: 21133484.0000\n",
            "Epoch 295/300\n",
            "37/37 [==============================] - 0s 3ms/step - loss: 17917778.0000 - val_loss: 20834346.0000\n",
            "Epoch 296/300\n",
            "37/37 [==============================] - 0s 3ms/step - loss: 17952348.0000 - val_loss: 21602058.0000\n",
            "Epoch 297/300\n",
            "37/37 [==============================] - 0s 2ms/step - loss: 17938492.0000 - val_loss: 20577024.0000\n",
            "Epoch 298/300\n",
            "37/37 [==============================] - 0s 3ms/step - loss: 17910612.0000 - val_loss: 20956950.0000\n",
            "Epoch 299/300\n",
            "37/37 [==============================] - 0s 2ms/step - loss: 17934398.0000 - val_loss: 20399300.0000\n",
            "Epoch 300/300\n",
            "37/37 [==============================] - 0s 2ms/step - loss: 17963176.0000 - val_loss: 20380534.0000\n"
          ]
        },
        {
          "output_type": "execute_result",
          "data": {
            "text/plain": [
              "<keras.callbacks.History at 0x7f1b011d7890>"
            ]
          },
          "metadata": {},
          "execution_count": 73
        }
      ]
    },
    {
      "cell_type": "code",
      "metadata": {
        "id": "7LHwArMryxG9"
      },
      "source": [
        "kayipVerisi= pd.DataFrame(model.history.history)"
      ],
      "execution_count": null,
      "outputs": []
    },
    {
      "cell_type": "code",
      "metadata": {
        "colab": {
          "base_uri": "https://localhost:8080/",
          "height": 204
        },
        "id": "5Cmprw_wzGI7",
        "outputId": "bae92287-25c0-4f2e-b409-406de9b9c0ee"
      },
      "source": [
        "kayipVerisi.head()"
      ],
      "execution_count": null,
      "outputs": [
        {
          "output_type": "execute_result",
          "data": {
            "text/html": [
              "<div>\n",
              "<style scoped>\n",
              "    .dataframe tbody tr th:only-of-type {\n",
              "        vertical-align: middle;\n",
              "    }\n",
              "\n",
              "    .dataframe tbody tr th {\n",
              "        vertical-align: top;\n",
              "    }\n",
              "\n",
              "    .dataframe thead th {\n",
              "        text-align: right;\n",
              "    }\n",
              "</style>\n",
              "<table border=\"1\" class=\"dataframe\">\n",
              "  <thead>\n",
              "    <tr style=\"text-align: right;\">\n",
              "      <th></th>\n",
              "      <th>loss</th>\n",
              "      <th>val_loss</th>\n",
              "    </tr>\n",
              "  </thead>\n",
              "  <tbody>\n",
              "    <tr>\n",
              "      <th>0</th>\n",
              "      <td>672142464.0</td>\n",
              "      <td>688091136.0</td>\n",
              "    </tr>\n",
              "    <tr>\n",
              "      <th>1</th>\n",
              "      <td>672041728.0</td>\n",
              "      <td>687792000.0</td>\n",
              "    </tr>\n",
              "    <tr>\n",
              "      <th>2</th>\n",
              "      <td>670829312.0</td>\n",
              "      <td>684450944.0</td>\n",
              "    </tr>\n",
              "    <tr>\n",
              "      <th>3</th>\n",
              "      <td>659855296.0</td>\n",
              "      <td>657356800.0</td>\n",
              "    </tr>\n",
              "    <tr>\n",
              "      <th>4</th>\n",
              "      <td>590865024.0</td>\n",
              "      <td>514538880.0</td>\n",
              "    </tr>\n",
              "  </tbody>\n",
              "</table>\n",
              "</div>"
            ],
            "text/plain": [
              "          loss     val_loss\n",
              "0  672142464.0  688091136.0\n",
              "1  672041728.0  687792000.0\n",
              "2  670829312.0  684450944.0\n",
              "3  659855296.0  657356800.0\n",
              "4  590865024.0  514538880.0"
            ]
          },
          "metadata": {},
          "execution_count": 75
        }
      ]
    },
    {
      "cell_type": "code",
      "metadata": {
        "colab": {
          "base_uri": "https://localhost:8080/",
          "height": 293
        },
        "id": "_nXCvlUczHyv",
        "outputId": "32a2cd2d-f8df-4c40-9d8d-1f83cc124d6e"
      },
      "source": [
        "kayipVerisi.plot()"
      ],
      "execution_count": null,
      "outputs": [
        {
          "output_type": "execute_result",
          "data": {
            "text/plain": [
              "<matplotlib.axes._subplots.AxesSubplot at 0x7f1b01042410>"
            ]
          },
          "metadata": {},
          "execution_count": 76
        },
        {
          "output_type": "display_data",
          "data": {
            "image/png": "[encoded data removed]",
            "text/plain": [
              "<Figure size 432x288 with 1 Axes>"
            ]
          },
          "metadata": {
            "needs_background": "light"
          }
        }
      ]
    },
    {
      "cell_type": "code",
      "metadata": {
        "id": "WUsnAB4A0Amc"
      },
      "source": [
        "from sklearn.metrics import mean_squared_error, mean_absolute_error"
      ],
      "execution_count": null,
      "outputs": []
    },
    {
      "cell_type": "code",
      "metadata": {
        "id": "_ElkxZHq0P-I"
      },
      "source": [
        "tahminDizisi= model.predict(x_test)"
      ],
      "execution_count": null,
      "outputs": []
    },
    {
      "cell_type": "code",
      "metadata": {
        "colab": {
          "base_uri": "https://localhost:8080/"
        },
        "id": "v2D63wio0S9B",
        "outputId": "3f186a2b-1dd7-41d5-d657-f7c6fb261818"
      },
      "source": [
        "tahminDizisi"
      ],
      "execution_count": null,
      "outputs": [
        {
          "output_type": "execute_result",
          "data": {
            "text/plain": [
              "array([[20128.865],\n",
              "       [21973.492],\n",
              "       [25042.404],\n",
              "       ...,\n",
              "       [25418.23 ],\n",
              "       [13642.305],\n",
              "       [24040.123]], dtype=float32)"
            ]
          },
          "metadata": {},
          "execution_count": 79
        }
      ]
    },
    {
      "cell_type": "code",
      "metadata": {
        "colab": {
          "base_uri": "https://localhost:8080/"
        },
        "id": "5yv650Wm0UW2",
        "outputId": "400d76a8-5801-4a08-c811-f6ab92bae453"
      },
      "source": [
        "mean_absolute_error(y_test,tahminDizisi)\n",
        "# %13 lük bir fark var kabul edilebilirse okey kabul edilemezse epoch arttırabiliriz\n",
        "# katman sayısını arttırabiliriz, daha fazla temizleme işlemi yapabiliriz"
      ],
      "execution_count": null,
      "outputs": [
        {
          "output_type": "execute_result",
          "data": {
            "text/plain": [
              "3228.649473829027"
            ]
          },
          "metadata": {},
          "execution_count": 80
        }
      ]
    },
    {
      "cell_type": "code",
      "metadata": {
        "colab": {
          "base_uri": "https://localhost:8080/",
          "height": 282
        },
        "id": "Ss5pPCT60hX7",
        "outputId": "5784d737-8881-4d7b-c0c2-9999942f6c41"
      },
      "source": [
        "plt.scatter(y_test,tahminDizisi)\n",
        "plt.plot(y_test,y_test,'g-*')"
      ],
      "execution_count": null,
      "outputs": [
        {
          "output_type": "execute_result",
          "data": {
            "text/plain": [
              "[<matplotlib.lines.Line2D at 0x7f1b00ef6090>]"
            ]
          },
          "metadata": {},
          "execution_count": 84
        },
        {
          "output_type": "display_data",
          "data": {
            "image/png": "[encoded data removed]",
            "text/plain": [
              "<Figure size 432x288 with 1 Axes>"
            ]
          },
          "metadata": {
            "needs_background": "light"
          }
        }
      ]
    },
    {
      "cell_type": "code",
      "metadata": {
        "colab": {
          "base_uri": "https://localhost:8080/"
        },
        "id": "nRTF8ZjG1mYj",
        "outputId": "247ea149-9410-4240-9af5-a9ccaad8b4e3"
      },
      "source": [
        "dataFrame.iloc[2]"
      ],
      "execution_count": null,
      "outputs": [
        {
          "output_type": "execute_result",
          "data": {
            "text/plain": [
              "year           2020.0\n",
              "price         65980.0\n",
              "mileage        3999.0\n",
              "tax             145.0\n",
              "mpg              28.0\n",
              "engineSize        4.0\n",
              "Name: 3191, dtype: float64"
            ]
          },
          "metadata": {},
          "execution_count": 87
        }
      ]
    },
    {
      "cell_type": "code",
      "metadata": {
        "id": "aSgAeb4c2l5v"
      },
      "source": [
        "yeniArabaSeries= dataFrame.drop('price',axis=1).iloc[2]"
      ],
      "execution_count": null,
      "outputs": []
    },
    {
      "cell_type": "code",
      "metadata": {
        "colab": {
          "base_uri": "https://localhost:8080/"
        },
        "id": "yCjnucVB2zM2",
        "outputId": "7e29bdad-6e24-4548-8cbb-2509f68a87b4"
      },
      "source": [
        "yeniArabaSeries"
      ],
      "execution_count": null,
      "outputs": [
        {
          "output_type": "execute_result",
          "data": {
            "text/plain": [
              "year          2020.0\n",
              "mileage       3999.0\n",
              "tax            145.0\n",
              "mpg             28.0\n",
              "engineSize       4.0\n",
              "Name: 3191, dtype: float64"
            ]
          },
          "metadata": {},
          "execution_count": 91
        }
      ]
    },
    {
      "cell_type": "code",
      "metadata": {
        "id": "6cO0kl-v21uN"
      },
      "source": [
        "yeniArabaSeries = scaler.transform(yeniArabaSeries.values.reshape(-1,5))"
      ],
      "execution_count": null,
      "outputs": []
    },
    {
      "cell_type": "code",
      "metadata": {
        "colab": {
          "base_uri": "https://localhost:8080/"
        },
        "id": "I2OneD1w3IGO",
        "outputId": "3fce16a9-a024-4b28-bc38-20c7d917224c"
      },
      "source": [
        "model.predict(yeniArabaSeries)"
      ],
      "execution_count": null,
      "outputs": [
        {
          "output_type": "execute_result",
          "data": {
            "text/plain": [
              "array([[63286.395]], dtype=float32)"
            ]
          },
          "metadata": {},
          "execution_count": 93
        }
      ]
    }
  ]
}